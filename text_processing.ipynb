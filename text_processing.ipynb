{
  "nbformat": 4,
  "nbformat_minor": 0,
  "metadata": {
    "colab": {
      "name": "text_processing.ipynb",
      "provenance": [],
      "collapsed_sections": [],
      "authorship_tag": "ABX9TyNyoy9rpeWmluOelhbqptjx",
      "include_colab_link": true
    },
    "kernelspec": {
      "name": "python3",
      "display_name": "Python 3"
    }
  },
  "cells": [
    {
      "cell_type": "markdown",
      "metadata": {
        "id": "view-in-github",
        "colab_type": "text"
      },
      "source": [
        "<a href=\"https://colab.research.google.com/github/stophobia/text_processing/blob/main/text_processing.ipynb\" target=\"_parent\"><img src=\"https://colab.research.google.com/assets/colab-badge.svg\" alt=\"Open In Colab\"/></a>"
      ]
    },
    {
      "cell_type": "markdown",
      "source": [
        "# テキスト処理(Text Processing)"
      ],
      "metadata": {
        "id": "X7evf9FwcnWB"
      }
    },
    {
      "cell_type": "markdown",
      "source": [
        "## Bag of words\n",
        "\n",
        "単語の順番とは無関係で出現頻度によって表現する方法。\n",
        "\n",
        "各単語がどれくらい出現したのかが基準になる。"
      ],
      "metadata": {
        "id": "wF21Tr2sKom5"
      }
    },
    {
      "cell_type": "code",
      "metadata": {
        "colab": {
          "base_uri": "https://localhost:8080/"
        },
        "id": "fGY1iLQ-JBpV",
        "outputId": "ca2dd98e-a143-4c73-bd3f-10d7577b844a"
      },
      "source": [
        "import nltk\n",
        "from nltk.corpus import stopwords\n",
        "from nltk.stem import WordNetLemmatizer\n",
        "\n",
        "nltk.download('punkt')\n",
        "nltk.download('stopwords')\n",
        "nltk.download('wordnet')"
      ],
      "execution_count": 8,
      "outputs": [
        {
          "output_type": "stream",
          "name": "stderr",
          "text": [
            "[nltk_data] Downloading package punkt to /root/nltk_data...\n",
            "[nltk_data]   Unzipping tokenizers/punkt.zip.\n",
            "[nltk_data] Downloading package stopwords to /root/nltk_data...\n",
            "[nltk_data]   Unzipping corpora/stopwords.zip.\n",
            "[nltk_data] Downloading package wordnet to /root/nltk_data...\n"
          ]
        },
        {
          "output_type": "execute_result",
          "data": {
            "text/plain": [
              "True"
            ]
          },
          "metadata": {},
          "execution_count": 8
        }
      ]
    },
    {
      "cell_type": "code",
      "metadata": {
        "colab": {
          "base_uri": "https://localhost:8080/"
        },
        "id": "pgTEU2npJPfh",
        "outputId": "e9fb6ce8-a7c0-4031-cb61-49a26a896b06"
      },
      "source": [
        "from sklearn.feature_extraction.text import CountVectorizer\n",
        "\n",
        "corpus = ['All our dreams can come true, if we have the courage to pursue them. I only hope that we don’t lose sight of one thing – that it was all started by a mouse.']\n",
        "print(corpus)\n",
        "\n",
        "vector = CountVectorizer()\n",
        "bow = vector.fit_transform(corpus)\n",
        "\n",
        "print(bow.toarray())\n",
        "print(vector.vocabulary_)"
      ],
      "execution_count": 9,
      "outputs": [
        {
          "output_type": "stream",
          "name": "stdout",
          "text": [
            "['All our dreams can come true, if we have the courage to pursue them. I only hope that we don’t lose sight of one thing – that it was all started by a mouse.']\n",
            "[[2 1 1 1 1 1 1 1 1 1 1 1 1 1 1 1 1 1 1 1 2 1 1 1 1 1 1 2]]\n",
            "{'all': 0, 'our': 16, 'dreams': 6, 'can': 2, 'come': 3, 'true': 25, 'if': 9, 'we': 27, 'have': 7, 'the': 21, 'courage': 4, 'to': 24, 'pursue': 17, 'them': 22, 'only': 15, 'hope': 8, 'that': 20, 'don': 5, 'lose': 11, 'sight': 18, 'of': 13, 'one': 14, 'thing': 23, 'it': 10, 'was': 26, 'started': 19, 'by': 1, 'mouse': 12}\n"
          ]
        }
      ]
    },
    {
      "cell_type": "code",
      "metadata": {
        "colab": {
          "base_uri": "https://localhost:8080/"
        },
        "id": "ss0cfb3vJ9aX",
        "outputId": "4606cff9-4e1b-40f6-a8f5-37cc8e5626fe"
      },
      "source": [
        "vector = CountVectorizer(stop_words='english')\n",
        "bow = vector.fit_transform(corpus)\n",
        "\n",
        "print(bow.toarray)\n",
        "print(vector.vocabulary_)"
      ],
      "execution_count": 10,
      "outputs": [
        {
          "output_type": "stream",
          "name": "stdout",
          "text": [
            "<bound method _cs_matrix.toarray of <1x12 sparse matrix of type '<class 'numpy.int64'>'\n",
            "\twith 12 stored elements in Compressed Sparse Row format>>\n",
            "{'dreams': 3, 'come': 0, 'true': 11, 'courage': 1, 'pursue': 7, 'hope': 4, 'don': 2, 'lose': 5, 'sight': 8, 'thing': 10, 'started': 9, 'mouse': 6}\n"
          ]
        }
      ]
    },
    {
      "cell_type": "code",
      "metadata": {
        "colab": {
          "base_uri": "https://localhost:8080/"
        },
        "id": "Pow1RopAKxKN",
        "outputId": "09e3a40c-6d4f-4b51-89e0-2dac21920492"
      },
      "source": [
        "corpus = ['夢を追い続ける勇気さえあれば、すべての夢は実現できる。忘れないでほしい。全てはたった一匹のネズミから始まったということを。']\n",
        "\n",
        "vector = CountVectorizer()\n",
        "bow = vector.fit_transform(corpus)\n",
        "\n",
        "print(bow.toarray())\n",
        "print(vector.vocabulary_)"
      ],
      "execution_count": 11,
      "outputs": [
        {
          "output_type": "stream",
          "name": "stdout",
          "text": [
            "[[1 1 1 1]]\n",
            "{'夢を追い続ける勇気さえあれば': 2, 'すべての夢は実現できる': 0, '忘れないでほしい': 3, '全てはたった一匹のネズミから始まったということを': 1}\n"
          ]
        }
      ]
    },
    {
      "cell_type": "markdown",
      "source": [
        "## 文書単語行列\n",
        "\n",
        "文書に登場する複数の単語の頻度を行列で表現したもの。\n",
        "\n",
        "各文書に対してBoWを一つの行列として表現したもの。"
      ],
      "metadata": {
        "id": "LrT-4grp0-p6"
      }
    },
    {
      "cell_type": "code",
      "metadata": {
        "colab": {
          "base_uri": "https://localhost:8080/"
        },
        "id": "cwMkMScWK3a_",
        "outputId": "d5d55812-e39b-461c-af4f-d97b9a2c328a"
      },
      "source": [
        "corpus = [\n",
        "    'All our dreams can come true, if we have the courage to pursue them. I only hope that we don’t lose sight of one thing – that it was all started by a mouse.',\n",
        "    'The special secret of making dreams come true can be summarized in four C’s. They are Curiosity, Confidence, Courage, and Constancy.',\n",
        "    'If you can dream it, you can do it.'\n",
        "  ]\n",
        "\n",
        "vector = CountVectorizer(stop_words='english')\n",
        "bow = vector.fit_transform(corpus)\n",
        "\n",
        "print(bow.toarray())\n",
        "print(vector.vocabulary_)"
      ],
      "execution_count": 12,
      "outputs": [
        {
          "output_type": "stream",
          "name": "stdout",
          "text": [
            "[[1 0 0 1 0 1 0 1 1 1 0 1 1 0 1 0 1 0 1 1]\n",
            " [1 1 1 1 1 0 0 1 0 0 1 0 0 1 0 1 0 1 0 1]\n",
            " [0 0 0 0 0 0 1 0 0 0 0 0 0 0 0 0 0 0 0 0]]\n",
            "{'dreams': 7, 'come': 0, 'true': 19, 'courage': 3, 'pursue': 12, 'hope': 8, 'don': 5, 'lose': 9, 'sight': 14, 'thing': 18, 'started': 16, 'mouse': 11, 'special': 15, 'secret': 13, 'making': 10, 'summarized': 17, 'curiosity': 4, 'confidence': 1, 'constancy': 2, 'dream': 6}\n"
          ]
        }
      ]
    },
    {
      "cell_type": "code",
      "metadata": {
        "colab": {
          "base_uri": "https://localhost:8080/",
          "height": 207
        },
        "id": "Jvw9y2N0LBEH",
        "outputId": "14331159-39f7-4f5a-9fa2-604266b7d876"
      },
      "source": [
        "import pandas as pd\n",
        "columns = []\n",
        "for k, v in sorted(vector.vocabulary_.items(), key = lambda item:item[1]):\n",
        "  columns.append(k)\n",
        "\n",
        "df = pd.DataFrame(bow.toarray(), columns = columns)\n",
        "df"
      ],
      "execution_count": 13,
      "outputs": [
        {
          "output_type": "execute_result",
          "data": {
            "text/plain": [
              "   come  confidence  constancy  courage  curiosity  don  dream  dreams  hope  \\\n",
              "0     1           0          0        1          0    1      0       1     1   \n",
              "1     1           1          1        1          1    0      0       1     0   \n",
              "2     0           0          0        0          0    0      1       0     0   \n",
              "\n",
              "   lose  making  mouse  pursue  secret  sight  special  started  summarized  \\\n",
              "0     1       0      1       1       0      1        0        1           0   \n",
              "1     0       1      0       0       1      0        1        0           1   \n",
              "2     0       0      0       0       0      0        0        0           0   \n",
              "\n",
              "   thing  true  \n",
              "0      1     1  \n",
              "1      0     1  \n",
              "2      0     0  "
            ],
            "text/html": [
              "\n",
              "  <div id=\"df-20145d88-0b22-4016-a49f-bbab17d0874b\">\n",
              "    <div class=\"colab-df-container\">\n",
              "      <div>\n",
              "<style scoped>\n",
              "    .dataframe tbody tr th:only-of-type {\n",
              "        vertical-align: middle;\n",
              "    }\n",
              "\n",
              "    .dataframe tbody tr th {\n",
              "        vertical-align: top;\n",
              "    }\n",
              "\n",
              "    .dataframe thead th {\n",
              "        text-align: right;\n",
              "    }\n",
              "</style>\n",
              "<table border=\"1\" class=\"dataframe\">\n",
              "  <thead>\n",
              "    <tr style=\"text-align: right;\">\n",
              "      <th></th>\n",
              "      <th>come</th>\n",
              "      <th>confidence</th>\n",
              "      <th>constancy</th>\n",
              "      <th>courage</th>\n",
              "      <th>curiosity</th>\n",
              "      <th>don</th>\n",
              "      <th>dream</th>\n",
              "      <th>dreams</th>\n",
              "      <th>hope</th>\n",
              "      <th>lose</th>\n",
              "      <th>making</th>\n",
              "      <th>mouse</th>\n",
              "      <th>pursue</th>\n",
              "      <th>secret</th>\n",
              "      <th>sight</th>\n",
              "      <th>special</th>\n",
              "      <th>started</th>\n",
              "      <th>summarized</th>\n",
              "      <th>thing</th>\n",
              "      <th>true</th>\n",
              "    </tr>\n",
              "  </thead>\n",
              "  <tbody>\n",
              "    <tr>\n",
              "      <th>0</th>\n",
              "      <td>1</td>\n",
              "      <td>0</td>\n",
              "      <td>0</td>\n",
              "      <td>1</td>\n",
              "      <td>0</td>\n",
              "      <td>1</td>\n",
              "      <td>0</td>\n",
              "      <td>1</td>\n",
              "      <td>1</td>\n",
              "      <td>1</td>\n",
              "      <td>0</td>\n",
              "      <td>1</td>\n",
              "      <td>1</td>\n",
              "      <td>0</td>\n",
              "      <td>1</td>\n",
              "      <td>0</td>\n",
              "      <td>1</td>\n",
              "      <td>0</td>\n",
              "      <td>1</td>\n",
              "      <td>1</td>\n",
              "    </tr>\n",
              "    <tr>\n",
              "      <th>1</th>\n",
              "      <td>1</td>\n",
              "      <td>1</td>\n",
              "      <td>1</td>\n",
              "      <td>1</td>\n",
              "      <td>1</td>\n",
              "      <td>0</td>\n",
              "      <td>0</td>\n",
              "      <td>1</td>\n",
              "      <td>0</td>\n",
              "      <td>0</td>\n",
              "      <td>1</td>\n",
              "      <td>0</td>\n",
              "      <td>0</td>\n",
              "      <td>1</td>\n",
              "      <td>0</td>\n",
              "      <td>1</td>\n",
              "      <td>0</td>\n",
              "      <td>1</td>\n",
              "      <td>0</td>\n",
              "      <td>1</td>\n",
              "    </tr>\n",
              "    <tr>\n",
              "      <th>2</th>\n",
              "      <td>0</td>\n",
              "      <td>0</td>\n",
              "      <td>0</td>\n",
              "      <td>0</td>\n",
              "      <td>0</td>\n",
              "      <td>0</td>\n",
              "      <td>1</td>\n",
              "      <td>0</td>\n",
              "      <td>0</td>\n",
              "      <td>0</td>\n",
              "      <td>0</td>\n",
              "      <td>0</td>\n",
              "      <td>0</td>\n",
              "      <td>0</td>\n",
              "      <td>0</td>\n",
              "      <td>0</td>\n",
              "      <td>0</td>\n",
              "      <td>0</td>\n",
              "      <td>0</td>\n",
              "      <td>0</td>\n",
              "    </tr>\n",
              "  </tbody>\n",
              "</table>\n",
              "</div>\n",
              "      <button class=\"colab-df-convert\" onclick=\"convertToInteractive('df-20145d88-0b22-4016-a49f-bbab17d0874b')\"\n",
              "              title=\"Convert this dataframe to an interactive table.\"\n",
              "              style=\"display:none;\">\n",
              "        \n",
              "  <svg xmlns=\"http://www.w3.org/2000/svg\" height=\"24px\"viewBox=\"0 0 24 24\"\n",
              "       width=\"24px\">\n",
              "    <path d=\"M0 0h24v24H0V0z\" fill=\"none\"/>\n",
              "    <path d=\"M18.56 5.44l.94 2.06.94-2.06 2.06-.94-2.06-.94-.94-2.06-.94 2.06-2.06.94zm-11 1L8.5 8.5l.94-2.06 2.06-.94-2.06-.94L8.5 2.5l-.94 2.06-2.06.94zm10 10l.94 2.06.94-2.06 2.06-.94-2.06-.94-.94-2.06-.94 2.06-2.06.94z\"/><path d=\"M17.41 7.96l-1.37-1.37c-.4-.4-.92-.59-1.43-.59-.52 0-1.04.2-1.43.59L10.3 9.45l-7.72 7.72c-.78.78-.78 2.05 0 2.83L4 21.41c.39.39.9.59 1.41.59.51 0 1.02-.2 1.41-.59l7.78-7.78 2.81-2.81c.8-.78.8-2.07 0-2.86zM5.41 20L4 18.59l7.72-7.72 1.47 1.35L5.41 20z\"/>\n",
              "  </svg>\n",
              "      </button>\n",
              "      \n",
              "  <style>\n",
              "    .colab-df-container {\n",
              "      display:flex;\n",
              "      flex-wrap:wrap;\n",
              "      gap: 12px;\n",
              "    }\n",
              "\n",
              "    .colab-df-convert {\n",
              "      background-color: #E8F0FE;\n",
              "      border: none;\n",
              "      border-radius: 50%;\n",
              "      cursor: pointer;\n",
              "      display: none;\n",
              "      fill: #1967D2;\n",
              "      height: 32px;\n",
              "      padding: 0 0 0 0;\n",
              "      width: 32px;\n",
              "    }\n",
              "\n",
              "    .colab-df-convert:hover {\n",
              "      background-color: #E2EBFA;\n",
              "      box-shadow: 0px 1px 2px rgba(60, 64, 67, 0.3), 0px 1px 3px 1px rgba(60, 64, 67, 0.15);\n",
              "      fill: #174EA6;\n",
              "    }\n",
              "\n",
              "    [theme=dark] .colab-df-convert {\n",
              "      background-color: #3B4455;\n",
              "      fill: #D2E3FC;\n",
              "    }\n",
              "\n",
              "    [theme=dark] .colab-df-convert:hover {\n",
              "      background-color: #434B5C;\n",
              "      box-shadow: 0px 1px 3px 1px rgba(0, 0, 0, 0.15);\n",
              "      filter: drop-shadow(0px 1px 2px rgba(0, 0, 0, 0.3));\n",
              "      fill: #FFFFFF;\n",
              "    }\n",
              "  </style>\n",
              "\n",
              "      <script>\n",
              "        const buttonEl =\n",
              "          document.querySelector('#df-20145d88-0b22-4016-a49f-bbab17d0874b button.colab-df-convert');\n",
              "        buttonEl.style.display =\n",
              "          google.colab.kernel.accessAllowed ? 'block' : 'none';\n",
              "\n",
              "        async function convertToInteractive(key) {\n",
              "          const element = document.querySelector('#df-20145d88-0b22-4016-a49f-bbab17d0874b');\n",
              "          const dataTable =\n",
              "            await google.colab.kernel.invokeFunction('convertToInteractive',\n",
              "                                                     [key], {});\n",
              "          if (!dataTable) return;\n",
              "\n",
              "          const docLinkHtml = 'Like what you see? Visit the ' +\n",
              "            '<a target=\"_blank\" href=https://colab.research.google.com/notebooks/data_table.ipynb>data table notebook</a>'\n",
              "            + ' to learn more about interactive tables.';\n",
              "          element.innerHTML = '';\n",
              "          dataTable['output_type'] = 'display_data';\n",
              "          await google.colab.output.renderOutput(dataTable, element);\n",
              "          const docLink = document.createElement('div');\n",
              "          docLink.innerHTML = docLinkHtml;\n",
              "          element.appendChild(docLink);\n",
              "        }\n",
              "      </script>\n",
              "    </div>\n",
              "  </div>\n",
              "  "
            ]
          },
          "metadata": {},
          "execution_count": 13
        }
      ]
    },
    {
      "cell_type": "markdown",
      "source": [
        "## 語彙頻度・文書逆頻度（TF-IDF）\n",
        "\n",
        "単純に頻度数が多い単語が核心単語ではなく、特定文書で集中的に登場する際に、その単語が文書のテーマを最も表している核心単語と想定。\n",
        "\n",
        "特定文書で特定単語が多く登場し、その単語が他の文書で少なく登場したら、その単語を特定文書の核心単語と想定。\n",
        "\n",
        "語彙頻度・文書逆頻度は語彙頻度と逆頻度を掛けて計算。\n",
        "\n",
        "語彙頻度は、特定文書で特定単語が多く登場することを意味する。\n",
        "\n",
        "$$ tf_{x,y} $$\n",
        "\n",
        "逆文書頻度は、他の文書で登場しない単語の頻度を意味する。\n",
        "\n",
        "$$ log(N/df_x) $$  \n",
        "\n",
        "語彙頻度・文書逆頻度は下記のように表現する。\n",
        "\n",
        "$$ W_{x,y} = tf_{x,y} * log(N/df_x) $$\n",
        "\n",
        "語彙頻度・文書逆頻度を便利に計算するためscikit-learnのTFidfvectorizerを利用。\n",
        "\n",
        "上記で計算した単語の頻度を入力して語彙頻度・文書逆頻度へ変換。"
      ],
      "metadata": {
        "id": "JsljT8Fi5BWY"
      }
    },
    {
      "cell_type": "code",
      "metadata": {
        "colab": {
          "base_uri": "https://localhost:8080/"
        },
        "id": "b3gy8N3JMZ9k",
        "outputId": "823e7be2-b677-4551-82e3-867214c61397"
      },
      "source": [
        "from sklearn.feature_extraction.text import TfidfVectorizer\n",
        "\n",
        "tfidf = TfidfVectorizer(stop_words = 'english').fit(corpus)\n",
        "\n",
        "print(tfidf.transform(corpus).toarray())\n",
        "print(tfidf.vocabulary_)"
      ],
      "execution_count": 14,
      "outputs": [
        {
          "output_type": "stream",
          "name": "stdout",
          "text": [
            "[[0.2368148  0.         0.         0.2368148  0.         0.311383\n",
            "  0.         0.2368148  0.311383   0.311383   0.         0.311383\n",
            "  0.311383   0.         0.311383   0.         0.311383   0.\n",
            "  0.311383   0.2368148 ]\n",
            " [0.24920411 0.32767345 0.32767345 0.24920411 0.32767345 0.\n",
            "  0.         0.24920411 0.         0.         0.32767345 0.\n",
            "  0.         0.32767345 0.         0.32767345 0.         0.32767345\n",
            "  0.         0.24920411]\n",
            " [0.         0.         0.         0.         0.         0.\n",
            "  1.         0.         0.         0.         0.         0.\n",
            "  0.         0.         0.         0.         0.         0.\n",
            "  0.         0.        ]]\n",
            "{'dreams': 7, 'come': 0, 'true': 19, 'courage': 3, 'pursue': 12, 'hope': 8, 'don': 5, 'lose': 9, 'sight': 14, 'thing': 18, 'started': 16, 'mouse': 11, 'special': 15, 'secret': 13, 'making': 10, 'summarized': 17, 'curiosity': 4, 'confidence': 1, 'constancy': 2, 'dream': 6}\n"
          ]
        }
      ]
    },
    {
      "cell_type": "markdown",
      "source": [
        "DataFrameで変換。"
      ],
      "metadata": {
        "id": "3h5iD63LCt-Z"
      }
    },
    {
      "cell_type": "code",
      "metadata": {
        "id": "Bei6jzI1M4Yj",
        "colab": {
          "base_uri": "https://localhost:8080/",
          "height": 207
        },
        "outputId": "e9cd7695-e1ff-4677-9fe5-cd01abbef23f"
      },
      "source": [
        "columns = []\n",
        "for k, v in sorted(tfidf.vocabulary_.items(), key = lambda item:item[1]):\n",
        "  columns.append(k)\n",
        "\n",
        "df = pd.DataFrame(tfidf.transform(corpus).toarray(), columns = columns)\n",
        "df"
      ],
      "execution_count": 15,
      "outputs": [
        {
          "output_type": "execute_result",
          "data": {
            "text/plain": [
              "       come  confidence  constancy   courage  curiosity       don  dream  \\\n",
              "0  0.236815    0.000000   0.000000  0.236815   0.000000  0.311383    0.0   \n",
              "1  0.249204    0.327673   0.327673  0.249204   0.327673  0.000000    0.0   \n",
              "2  0.000000    0.000000   0.000000  0.000000   0.000000  0.000000    1.0   \n",
              "\n",
              "     dreams      hope      lose    making     mouse    pursue    secret  \\\n",
              "0  0.236815  0.311383  0.311383  0.000000  0.311383  0.311383  0.000000   \n",
              "1  0.249204  0.000000  0.000000  0.327673  0.000000  0.000000  0.327673   \n",
              "2  0.000000  0.000000  0.000000  0.000000  0.000000  0.000000  0.000000   \n",
              "\n",
              "      sight   special   started  summarized     thing      true  \n",
              "0  0.311383  0.000000  0.311383    0.000000  0.311383  0.236815  \n",
              "1  0.000000  0.327673  0.000000    0.327673  0.000000  0.249204  \n",
              "2  0.000000  0.000000  0.000000    0.000000  0.000000  0.000000  "
            ],
            "text/html": [
              "\n",
              "  <div id=\"df-851968ca-b59e-4ab2-acf2-9db9867abb67\">\n",
              "    <div class=\"colab-df-container\">\n",
              "      <div>\n",
              "<style scoped>\n",
              "    .dataframe tbody tr th:only-of-type {\n",
              "        vertical-align: middle;\n",
              "    }\n",
              "\n",
              "    .dataframe tbody tr th {\n",
              "        vertical-align: top;\n",
              "    }\n",
              "\n",
              "    .dataframe thead th {\n",
              "        text-align: right;\n",
              "    }\n",
              "</style>\n",
              "<table border=\"1\" class=\"dataframe\">\n",
              "  <thead>\n",
              "    <tr style=\"text-align: right;\">\n",
              "      <th></th>\n",
              "      <th>come</th>\n",
              "      <th>confidence</th>\n",
              "      <th>constancy</th>\n",
              "      <th>courage</th>\n",
              "      <th>curiosity</th>\n",
              "      <th>don</th>\n",
              "      <th>dream</th>\n",
              "      <th>dreams</th>\n",
              "      <th>hope</th>\n",
              "      <th>lose</th>\n",
              "      <th>making</th>\n",
              "      <th>mouse</th>\n",
              "      <th>pursue</th>\n",
              "      <th>secret</th>\n",
              "      <th>sight</th>\n",
              "      <th>special</th>\n",
              "      <th>started</th>\n",
              "      <th>summarized</th>\n",
              "      <th>thing</th>\n",
              "      <th>true</th>\n",
              "    </tr>\n",
              "  </thead>\n",
              "  <tbody>\n",
              "    <tr>\n",
              "      <th>0</th>\n",
              "      <td>0.236815</td>\n",
              "      <td>0.000000</td>\n",
              "      <td>0.000000</td>\n",
              "      <td>0.236815</td>\n",
              "      <td>0.000000</td>\n",
              "      <td>0.311383</td>\n",
              "      <td>0.0</td>\n",
              "      <td>0.236815</td>\n",
              "      <td>0.311383</td>\n",
              "      <td>0.311383</td>\n",
              "      <td>0.000000</td>\n",
              "      <td>0.311383</td>\n",
              "      <td>0.311383</td>\n",
              "      <td>0.000000</td>\n",
              "      <td>0.311383</td>\n",
              "      <td>0.000000</td>\n",
              "      <td>0.311383</td>\n",
              "      <td>0.000000</td>\n",
              "      <td>0.311383</td>\n",
              "      <td>0.236815</td>\n",
              "    </tr>\n",
              "    <tr>\n",
              "      <th>1</th>\n",
              "      <td>0.249204</td>\n",
              "      <td>0.327673</td>\n",
              "      <td>0.327673</td>\n",
              "      <td>0.249204</td>\n",
              "      <td>0.327673</td>\n",
              "      <td>0.000000</td>\n",
              "      <td>0.0</td>\n",
              "      <td>0.249204</td>\n",
              "      <td>0.000000</td>\n",
              "      <td>0.000000</td>\n",
              "      <td>0.327673</td>\n",
              "      <td>0.000000</td>\n",
              "      <td>0.000000</td>\n",
              "      <td>0.327673</td>\n",
              "      <td>0.000000</td>\n",
              "      <td>0.327673</td>\n",
              "      <td>0.000000</td>\n",
              "      <td>0.327673</td>\n",
              "      <td>0.000000</td>\n",
              "      <td>0.249204</td>\n",
              "    </tr>\n",
              "    <tr>\n",
              "      <th>2</th>\n",
              "      <td>0.000000</td>\n",
              "      <td>0.000000</td>\n",
              "      <td>0.000000</td>\n",
              "      <td>0.000000</td>\n",
              "      <td>0.000000</td>\n",
              "      <td>0.000000</td>\n",
              "      <td>1.0</td>\n",
              "      <td>0.000000</td>\n",
              "      <td>0.000000</td>\n",
              "      <td>0.000000</td>\n",
              "      <td>0.000000</td>\n",
              "      <td>0.000000</td>\n",
              "      <td>0.000000</td>\n",
              "      <td>0.000000</td>\n",
              "      <td>0.000000</td>\n",
              "      <td>0.000000</td>\n",
              "      <td>0.000000</td>\n",
              "      <td>0.000000</td>\n",
              "      <td>0.000000</td>\n",
              "      <td>0.000000</td>\n",
              "    </tr>\n",
              "  </tbody>\n",
              "</table>\n",
              "</div>\n",
              "      <button class=\"colab-df-convert\" onclick=\"convertToInteractive('df-851968ca-b59e-4ab2-acf2-9db9867abb67')\"\n",
              "              title=\"Convert this dataframe to an interactive table.\"\n",
              "              style=\"display:none;\">\n",
              "        \n",
              "  <svg xmlns=\"http://www.w3.org/2000/svg\" height=\"24px\"viewBox=\"0 0 24 24\"\n",
              "       width=\"24px\">\n",
              "    <path d=\"M0 0h24v24H0V0z\" fill=\"none\"/>\n",
              "    <path d=\"M18.56 5.44l.94 2.06.94-2.06 2.06-.94-2.06-.94-.94-2.06-.94 2.06-2.06.94zm-11 1L8.5 8.5l.94-2.06 2.06-.94-2.06-.94L8.5 2.5l-.94 2.06-2.06.94zm10 10l.94 2.06.94-2.06 2.06-.94-2.06-.94-.94-2.06-.94 2.06-2.06.94z\"/><path d=\"M17.41 7.96l-1.37-1.37c-.4-.4-.92-.59-1.43-.59-.52 0-1.04.2-1.43.59L10.3 9.45l-7.72 7.72c-.78.78-.78 2.05 0 2.83L4 21.41c.39.39.9.59 1.41.59.51 0 1.02-.2 1.41-.59l7.78-7.78 2.81-2.81c.8-.78.8-2.07 0-2.86zM5.41 20L4 18.59l7.72-7.72 1.47 1.35L5.41 20z\"/>\n",
              "  </svg>\n",
              "      </button>\n",
              "      \n",
              "  <style>\n",
              "    .colab-df-container {\n",
              "      display:flex;\n",
              "      flex-wrap:wrap;\n",
              "      gap: 12px;\n",
              "    }\n",
              "\n",
              "    .colab-df-convert {\n",
              "      background-color: #E8F0FE;\n",
              "      border: none;\n",
              "      border-radius: 50%;\n",
              "      cursor: pointer;\n",
              "      display: none;\n",
              "      fill: #1967D2;\n",
              "      height: 32px;\n",
              "      padding: 0 0 0 0;\n",
              "      width: 32px;\n",
              "    }\n",
              "\n",
              "    .colab-df-convert:hover {\n",
              "      background-color: #E2EBFA;\n",
              "      box-shadow: 0px 1px 2px rgba(60, 64, 67, 0.3), 0px 1px 3px 1px rgba(60, 64, 67, 0.15);\n",
              "      fill: #174EA6;\n",
              "    }\n",
              "\n",
              "    [theme=dark] .colab-df-convert {\n",
              "      background-color: #3B4455;\n",
              "      fill: #D2E3FC;\n",
              "    }\n",
              "\n",
              "    [theme=dark] .colab-df-convert:hover {\n",
              "      background-color: #434B5C;\n",
              "      box-shadow: 0px 1px 3px 1px rgba(0, 0, 0, 0.15);\n",
              "      filter: drop-shadow(0px 1px 2px rgba(0, 0, 0, 0.3));\n",
              "      fill: #FFFFFF;\n",
              "    }\n",
              "  </style>\n",
              "\n",
              "      <script>\n",
              "        const buttonEl =\n",
              "          document.querySelector('#df-851968ca-b59e-4ab2-acf2-9db9867abb67 button.colab-df-convert');\n",
              "        buttonEl.style.display =\n",
              "          google.colab.kernel.accessAllowed ? 'block' : 'none';\n",
              "\n",
              "        async function convertToInteractive(key) {\n",
              "          const element = document.querySelector('#df-851968ca-b59e-4ab2-acf2-9db9867abb67');\n",
              "          const dataTable =\n",
              "            await google.colab.kernel.invokeFunction('convertToInteractive',\n",
              "                                                     [key], {});\n",
              "          if (!dataTable) return;\n",
              "\n",
              "          const docLinkHtml = 'Like what you see? Visit the ' +\n",
              "            '<a target=\"_blank\" href=https://colab.research.google.com/notebooks/data_table.ipynb>data table notebook</a>'\n",
              "            + ' to learn more about interactive tables.';\n",
              "          element.innerHTML = '';\n",
              "          dataTable['output_type'] = 'display_data';\n",
              "          await google.colab.output.renderOutput(dataTable, element);\n",
              "          const docLink = document.createElement('div');\n",
              "          docLink.innerHTML = docLinkHtml;\n",
              "          element.appendChild(docLink);\n",
              "        }\n",
              "      </script>\n",
              "    </div>\n",
              "  </div>\n",
              "  "
            ]
          },
          "metadata": {},
          "execution_count": 15
        }
      ]
    },
    {
      "cell_type": "markdown",
      "source": [
        "## スパムデータ分類"
      ],
      "metadata": {
        "id": "DJ-WJn_cfC7R"
      }
    },
    {
      "cell_type": "code",
      "metadata": {
        "id": "DkyG60IANyZe",
        "colab": {
          "base_uri": "https://localhost:8080/"
        },
        "outputId": "54fe1309-03f6-499d-ed7c-804eed3f320d"
      },
      "source": [
        "!wget https://raw.githubusercontent.com/stophobia/text_processing/main/spam.csv"
      ],
      "execution_count": 16,
      "outputs": [
        {
          "output_type": "stream",
          "name": "stdout",
          "text": [
            "--2022-08-27 22:11:26--  https://raw.githubusercontent.com/stophobia/text_processing/main/spam.csv\n",
            "Resolving raw.githubusercontent.com (raw.githubusercontent.com)... 185.199.108.133, 185.199.109.133, 185.199.110.133, ...\n",
            "Connecting to raw.githubusercontent.com (raw.githubusercontent.com)|185.199.108.133|:443... connected.\n",
            "HTTP request sent, awaiting response... 200 OK\n",
            "Length: 505042 (493K) [text/plain]\n",
            "Saving to: ‘spam.csv’\n",
            "\n",
            "spam.csv            100%[===================>] 493.21K  --.-KB/s    in 0.04s   \n",
            "\n",
            "2022-08-27 22:11:27 (11.2 MB/s) - ‘spam.csv’ saved [505042/505042]\n",
            "\n"
          ]
        }
      ]
    },
    {
      "cell_type": "code",
      "metadata": {
        "id": "W4V64be4PdK3",
        "colab": {
          "base_uri": "https://localhost:8080/",
          "height": 206
        },
        "outputId": "990fa1f3-aedb-482a-8259-4044dd3856d0"
      },
      "source": [
        "df = pd.read_csv('spam.csv', encoding='latin-1')\n",
        "df.head()"
      ],
      "execution_count": 17,
      "outputs": [
        {
          "output_type": "execute_result",
          "data": {
            "text/plain": [
              "     v1                                                 v2 Unnamed: 2  \\\n",
              "0   ham  Go until jurong point, crazy.. Available only ...        NaN   \n",
              "1   ham                      Ok lar... Joking wif u oni...        NaN   \n",
              "2  spam  Free entry in 2 a wkly comp to win FA Cup fina...        NaN   \n",
              "3   ham  U dun say so early hor... U c already then say...        NaN   \n",
              "4   ham  Nah I don't think he goes to usf, he lives aro...        NaN   \n",
              "\n",
              "  Unnamed: 3 Unnamed: 4  \n",
              "0        NaN        NaN  \n",
              "1        NaN        NaN  \n",
              "2        NaN        NaN  \n",
              "3        NaN        NaN  \n",
              "4        NaN        NaN  "
            ],
            "text/html": [
              "\n",
              "  <div id=\"df-b82626df-e508-445d-bd5d-b750d7b7f3e1\">\n",
              "    <div class=\"colab-df-container\">\n",
              "      <div>\n",
              "<style scoped>\n",
              "    .dataframe tbody tr th:only-of-type {\n",
              "        vertical-align: middle;\n",
              "    }\n",
              "\n",
              "    .dataframe tbody tr th {\n",
              "        vertical-align: top;\n",
              "    }\n",
              "\n",
              "    .dataframe thead th {\n",
              "        text-align: right;\n",
              "    }\n",
              "</style>\n",
              "<table border=\"1\" class=\"dataframe\">\n",
              "  <thead>\n",
              "    <tr style=\"text-align: right;\">\n",
              "      <th></th>\n",
              "      <th>v1</th>\n",
              "      <th>v2</th>\n",
              "      <th>Unnamed: 2</th>\n",
              "      <th>Unnamed: 3</th>\n",
              "      <th>Unnamed: 4</th>\n",
              "    </tr>\n",
              "  </thead>\n",
              "  <tbody>\n",
              "    <tr>\n",
              "      <th>0</th>\n",
              "      <td>ham</td>\n",
              "      <td>Go until jurong point, crazy.. Available only ...</td>\n",
              "      <td>NaN</td>\n",
              "      <td>NaN</td>\n",
              "      <td>NaN</td>\n",
              "    </tr>\n",
              "    <tr>\n",
              "      <th>1</th>\n",
              "      <td>ham</td>\n",
              "      <td>Ok lar... Joking wif u oni...</td>\n",
              "      <td>NaN</td>\n",
              "      <td>NaN</td>\n",
              "      <td>NaN</td>\n",
              "    </tr>\n",
              "    <tr>\n",
              "      <th>2</th>\n",
              "      <td>spam</td>\n",
              "      <td>Free entry in 2 a wkly comp to win FA Cup fina...</td>\n",
              "      <td>NaN</td>\n",
              "      <td>NaN</td>\n",
              "      <td>NaN</td>\n",
              "    </tr>\n",
              "    <tr>\n",
              "      <th>3</th>\n",
              "      <td>ham</td>\n",
              "      <td>U dun say so early hor... U c already then say...</td>\n",
              "      <td>NaN</td>\n",
              "      <td>NaN</td>\n",
              "      <td>NaN</td>\n",
              "    </tr>\n",
              "    <tr>\n",
              "      <th>4</th>\n",
              "      <td>ham</td>\n",
              "      <td>Nah I don't think he goes to usf, he lives aro...</td>\n",
              "      <td>NaN</td>\n",
              "      <td>NaN</td>\n",
              "      <td>NaN</td>\n",
              "    </tr>\n",
              "  </tbody>\n",
              "</table>\n",
              "</div>\n",
              "      <button class=\"colab-df-convert\" onclick=\"convertToInteractive('df-b82626df-e508-445d-bd5d-b750d7b7f3e1')\"\n",
              "              title=\"Convert this dataframe to an interactive table.\"\n",
              "              style=\"display:none;\">\n",
              "        \n",
              "  <svg xmlns=\"http://www.w3.org/2000/svg\" height=\"24px\"viewBox=\"0 0 24 24\"\n",
              "       width=\"24px\">\n",
              "    <path d=\"M0 0h24v24H0V0z\" fill=\"none\"/>\n",
              "    <path d=\"M18.56 5.44l.94 2.06.94-2.06 2.06-.94-2.06-.94-.94-2.06-.94 2.06-2.06.94zm-11 1L8.5 8.5l.94-2.06 2.06-.94-2.06-.94L8.5 2.5l-.94 2.06-2.06.94zm10 10l.94 2.06.94-2.06 2.06-.94-2.06-.94-.94-2.06-.94 2.06-2.06.94z\"/><path d=\"M17.41 7.96l-1.37-1.37c-.4-.4-.92-.59-1.43-.59-.52 0-1.04.2-1.43.59L10.3 9.45l-7.72 7.72c-.78.78-.78 2.05 0 2.83L4 21.41c.39.39.9.59 1.41.59.51 0 1.02-.2 1.41-.59l7.78-7.78 2.81-2.81c.8-.78.8-2.07 0-2.86zM5.41 20L4 18.59l7.72-7.72 1.47 1.35L5.41 20z\"/>\n",
              "  </svg>\n",
              "      </button>\n",
              "      \n",
              "  <style>\n",
              "    .colab-df-container {\n",
              "      display:flex;\n",
              "      flex-wrap:wrap;\n",
              "      gap: 12px;\n",
              "    }\n",
              "\n",
              "    .colab-df-convert {\n",
              "      background-color: #E8F0FE;\n",
              "      border: none;\n",
              "      border-radius: 50%;\n",
              "      cursor: pointer;\n",
              "      display: none;\n",
              "      fill: #1967D2;\n",
              "      height: 32px;\n",
              "      padding: 0 0 0 0;\n",
              "      width: 32px;\n",
              "    }\n",
              "\n",
              "    .colab-df-convert:hover {\n",
              "      background-color: #E2EBFA;\n",
              "      box-shadow: 0px 1px 2px rgba(60, 64, 67, 0.3), 0px 1px 3px 1px rgba(60, 64, 67, 0.15);\n",
              "      fill: #174EA6;\n",
              "    }\n",
              "\n",
              "    [theme=dark] .colab-df-convert {\n",
              "      background-color: #3B4455;\n",
              "      fill: #D2E3FC;\n",
              "    }\n",
              "\n",
              "    [theme=dark] .colab-df-convert:hover {\n",
              "      background-color: #434B5C;\n",
              "      box-shadow: 0px 1px 3px 1px rgba(0, 0, 0, 0.15);\n",
              "      filter: drop-shadow(0px 1px 2px rgba(0, 0, 0, 0.3));\n",
              "      fill: #FFFFFF;\n",
              "    }\n",
              "  </style>\n",
              "\n",
              "      <script>\n",
              "        const buttonEl =\n",
              "          document.querySelector('#df-b82626df-e508-445d-bd5d-b750d7b7f3e1 button.colab-df-convert');\n",
              "        buttonEl.style.display =\n",
              "          google.colab.kernel.accessAllowed ? 'block' : 'none';\n",
              "\n",
              "        async function convertToInteractive(key) {\n",
              "          const element = document.querySelector('#df-b82626df-e508-445d-bd5d-b750d7b7f3e1');\n",
              "          const dataTable =\n",
              "            await google.colab.kernel.invokeFunction('convertToInteractive',\n",
              "                                                     [key], {});\n",
              "          if (!dataTable) return;\n",
              "\n",
              "          const docLinkHtml = 'Like what you see? Visit the ' +\n",
              "            '<a target=\"_blank\" href=https://colab.research.google.com/notebooks/data_table.ipynb>data table notebook</a>'\n",
              "            + ' to learn more about interactive tables.';\n",
              "          element.innerHTML = '';\n",
              "          dataTable['output_type'] = 'display_data';\n",
              "          await google.colab.output.renderOutput(dataTable, element);\n",
              "          const docLink = document.createElement('div');\n",
              "          docLink.innerHTML = docLinkHtml;\n",
              "          element.appendChild(docLink);\n",
              "        }\n",
              "      </script>\n",
              "    </div>\n",
              "  </div>\n",
              "  "
            ]
          },
          "metadata": {},
          "execution_count": 17
        }
      ]
    },
    {
      "cell_type": "code",
      "metadata": {
        "id": "P-oV5bNXPsv5",
        "colab": {
          "base_uri": "https://localhost:8080/"
        },
        "outputId": "6d2bdc66-7e16-4cfc-9b41-9cee4264d8e5"
      },
      "source": [
        "df.drop(['Unnamed: 2','Unnamed: 3','Unnamed: 4'], axis = 1, inplace = True)\n",
        "df.columns = ['target', 'message']\n",
        "df.info()"
      ],
      "execution_count": 18,
      "outputs": [
        {
          "output_type": "stream",
          "name": "stdout",
          "text": [
            "<class 'pandas.core.frame.DataFrame'>\n",
            "RangeIndex: 5572 entries, 0 to 5571\n",
            "Data columns (total 2 columns):\n",
            " #   Column   Non-Null Count  Dtype \n",
            "---  ------   --------------  ----- \n",
            " 0   target   5572 non-null   object\n",
            " 1   message  5572 non-null   object\n",
            "dtypes: object(2)\n",
            "memory usage: 87.2+ KB\n"
          ]
        }
      ]
    },
    {
      "cell_type": "code",
      "metadata": {
        "id": "Ztk7GlKkP-H-"
      },
      "source": [
        "import re\n",
        "import string\n",
        "def clean_text(text):\n",
        "  text = str(text).lower()\n",
        "  text = re.sub('\\[.*?\\]', '', text)\n",
        "  text = re.sub('http?://\\S+|www\\.\\S+', '', text)\n",
        "  text = re.sub('<.*?>+', '', text)\n",
        "  text = re.sub('[%s]' % re.escape(string.punctuation), '', text)\n",
        "  text = re.sub('\\n', '', text)\n",
        "  text = re.sub('\\w*\\d\\w*', '', text)\n",
        "\n",
        "  return text"
      ],
      "execution_count": 19,
      "outputs": []
    },
    {
      "cell_type": "code",
      "source": [
        "stop_words = stopwords.words('english')\n",
        "stop_words = stop_words + ['u', 'im', 'c']\n",
        "stemmer = nltk.SnowballStemmer('english')\n",
        "\n",
        "def preprocess_data(text):\n",
        "  text = clean_text(text)\n",
        "  text = ' '.join(word for word in text.split(' ') if word not in stop_words)\n",
        "  text = ' '.join(stemmer.stem(word) for word in text.split(' '))\n",
        "\n",
        "  return text"
      ],
      "metadata": {
        "id": "Li5QEJS9lpUG"
      },
      "execution_count": 20,
      "outputs": []
    },
    {
      "cell_type": "code",
      "source": [
        "df['message'] = df['message'].apply(preprocess_data)\n",
        "df.head()"
      ],
      "metadata": {
        "colab": {
          "base_uri": "https://localhost:8080/",
          "height": 206
        },
        "id": "CPnKwdR9mkci",
        "outputId": "516ab6de-eba7-4b7c-ff0a-b31817695874"
      },
      "execution_count": 21,
      "outputs": [
        {
          "output_type": "execute_result",
          "data": {
            "text/plain": [
              "  target                                            message\n",
              "0    ham  go jurong point crazi avail bugi n great world...\n",
              "1    ham                                ok lar joke wif oni\n",
              "2   spam  free entri  wkli comp win fa cup final tkts  m...\n",
              "3    ham                      dun say earli hor alreadi say\n",
              "4    ham          nah dont think goe usf live around though"
            ],
            "text/html": [
              "\n",
              "  <div id=\"df-07ecee95-6ade-4654-a1ef-3041185f93df\">\n",
              "    <div class=\"colab-df-container\">\n",
              "      <div>\n",
              "<style scoped>\n",
              "    .dataframe tbody tr th:only-of-type {\n",
              "        vertical-align: middle;\n",
              "    }\n",
              "\n",
              "    .dataframe tbody tr th {\n",
              "        vertical-align: top;\n",
              "    }\n",
              "\n",
              "    .dataframe thead th {\n",
              "        text-align: right;\n",
              "    }\n",
              "</style>\n",
              "<table border=\"1\" class=\"dataframe\">\n",
              "  <thead>\n",
              "    <tr style=\"text-align: right;\">\n",
              "      <th></th>\n",
              "      <th>target</th>\n",
              "      <th>message</th>\n",
              "    </tr>\n",
              "  </thead>\n",
              "  <tbody>\n",
              "    <tr>\n",
              "      <th>0</th>\n",
              "      <td>ham</td>\n",
              "      <td>go jurong point crazi avail bugi n great world...</td>\n",
              "    </tr>\n",
              "    <tr>\n",
              "      <th>1</th>\n",
              "      <td>ham</td>\n",
              "      <td>ok lar joke wif oni</td>\n",
              "    </tr>\n",
              "    <tr>\n",
              "      <th>2</th>\n",
              "      <td>spam</td>\n",
              "      <td>free entri  wkli comp win fa cup final tkts  m...</td>\n",
              "    </tr>\n",
              "    <tr>\n",
              "      <th>3</th>\n",
              "      <td>ham</td>\n",
              "      <td>dun say earli hor alreadi say</td>\n",
              "    </tr>\n",
              "    <tr>\n",
              "      <th>4</th>\n",
              "      <td>ham</td>\n",
              "      <td>nah dont think goe usf live around though</td>\n",
              "    </tr>\n",
              "  </tbody>\n",
              "</table>\n",
              "</div>\n",
              "      <button class=\"colab-df-convert\" onclick=\"convertToInteractive('df-07ecee95-6ade-4654-a1ef-3041185f93df')\"\n",
              "              title=\"Convert this dataframe to an interactive table.\"\n",
              "              style=\"display:none;\">\n",
              "        \n",
              "  <svg xmlns=\"http://www.w3.org/2000/svg\" height=\"24px\"viewBox=\"0 0 24 24\"\n",
              "       width=\"24px\">\n",
              "    <path d=\"M0 0h24v24H0V0z\" fill=\"none\"/>\n",
              "    <path d=\"M18.56 5.44l.94 2.06.94-2.06 2.06-.94-2.06-.94-.94-2.06-.94 2.06-2.06.94zm-11 1L8.5 8.5l.94-2.06 2.06-.94-2.06-.94L8.5 2.5l-.94 2.06-2.06.94zm10 10l.94 2.06.94-2.06 2.06-.94-2.06-.94-.94-2.06-.94 2.06-2.06.94z\"/><path d=\"M17.41 7.96l-1.37-1.37c-.4-.4-.92-.59-1.43-.59-.52 0-1.04.2-1.43.59L10.3 9.45l-7.72 7.72c-.78.78-.78 2.05 0 2.83L4 21.41c.39.39.9.59 1.41.59.51 0 1.02-.2 1.41-.59l7.78-7.78 2.81-2.81c.8-.78.8-2.07 0-2.86zM5.41 20L4 18.59l7.72-7.72 1.47 1.35L5.41 20z\"/>\n",
              "  </svg>\n",
              "      </button>\n",
              "      \n",
              "  <style>\n",
              "    .colab-df-container {\n",
              "      display:flex;\n",
              "      flex-wrap:wrap;\n",
              "      gap: 12px;\n",
              "    }\n",
              "\n",
              "    .colab-df-convert {\n",
              "      background-color: #E8F0FE;\n",
              "      border: none;\n",
              "      border-radius: 50%;\n",
              "      cursor: pointer;\n",
              "      display: none;\n",
              "      fill: #1967D2;\n",
              "      height: 32px;\n",
              "      padding: 0 0 0 0;\n",
              "      width: 32px;\n",
              "    }\n",
              "\n",
              "    .colab-df-convert:hover {\n",
              "      background-color: #E2EBFA;\n",
              "      box-shadow: 0px 1px 2px rgba(60, 64, 67, 0.3), 0px 1px 3px 1px rgba(60, 64, 67, 0.15);\n",
              "      fill: #174EA6;\n",
              "    }\n",
              "\n",
              "    [theme=dark] .colab-df-convert {\n",
              "      background-color: #3B4455;\n",
              "      fill: #D2E3FC;\n",
              "    }\n",
              "\n",
              "    [theme=dark] .colab-df-convert:hover {\n",
              "      background-color: #434B5C;\n",
              "      box-shadow: 0px 1px 3px 1px rgba(0, 0, 0, 0.15);\n",
              "      filter: drop-shadow(0px 1px 2px rgba(0, 0, 0, 0.3));\n",
              "      fill: #FFFFFF;\n",
              "    }\n",
              "  </style>\n",
              "\n",
              "      <script>\n",
              "        const buttonEl =\n",
              "          document.querySelector('#df-07ecee95-6ade-4654-a1ef-3041185f93df button.colab-df-convert');\n",
              "        buttonEl.style.display =\n",
              "          google.colab.kernel.accessAllowed ? 'block' : 'none';\n",
              "\n",
              "        async function convertToInteractive(key) {\n",
              "          const element = document.querySelector('#df-07ecee95-6ade-4654-a1ef-3041185f93df');\n",
              "          const dataTable =\n",
              "            await google.colab.kernel.invokeFunction('convertToInteractive',\n",
              "                                                     [key], {});\n",
              "          if (!dataTable) return;\n",
              "\n",
              "          const docLinkHtml = 'Like what you see? Visit the ' +\n",
              "            '<a target=\"_blank\" href=https://colab.research.google.com/notebooks/data_table.ipynb>data table notebook</a>'\n",
              "            + ' to learn more about interactive tables.';\n",
              "          element.innerHTML = '';\n",
              "          dataTable['output_type'] = 'display_data';\n",
              "          await google.colab.output.renderOutput(dataTable, element);\n",
              "          const docLink = document.createElement('div');\n",
              "          docLink.innerHTML = docLinkHtml;\n",
              "          element.appendChild(docLink);\n",
              "        }\n",
              "      </script>\n",
              "    </div>\n",
              "  </div>\n",
              "  "
            ]
          },
          "metadata": {},
          "execution_count": 21
        }
      ]
    },
    {
      "cell_type": "code",
      "source": [
        "from sklearn.preprocessing import LabelEncoder\n",
        "from sklearn.model_selection import train_test_split\n",
        "\n",
        "X = df.message\n",
        "Y = df.target"
      ],
      "metadata": {
        "id": "EmuE6qkPi5VI"
      },
      "execution_count": 22,
      "outputs": []
    },
    {
      "cell_type": "code",
      "source": [
        "Y.value_counts().plot(kind = 'bar')"
      ],
      "metadata": {
        "colab": {
          "base_uri": "https://localhost:8080/",
          "height": 302
        },
        "id": "KXCoRYvFjWaY",
        "outputId": "4dfbec6f-e0ad-4e87-f2ca-e19d54fa1287"
      },
      "execution_count": 23,
      "outputs": [
        {
          "output_type": "execute_result",
          "data": {
            "text/plain": [
              "<matplotlib.axes._subplots.AxesSubplot at 0x7ff87ab50210>"
            ]
          },
          "metadata": {},
          "execution_count": 23
        },
        {
          "output_type": "display_data",
          "data": {
            "text/plain": [
              "<Figure size 432x288 with 1 Axes>"
            ],
            "image/png": "[encoded data removed]"
          },
          "metadata": {
            "needs_background": "light"
          }
        }
      ]
    },
    {
      "cell_type": "code",
      "source": [
        "print('最大の長さ: {}', format(max(len(l) for l in X)))\n",
        "print('平均の長さ: {}', format((sum(map(len, X)) / len(X))))"
      ],
      "metadata": {
        "colab": {
          "base_uri": "https://localhost:8080/"
        },
        "id": "rvtQEP_3jkv8",
        "outputId": "5e54ae93-9f06-415a-d6d8-3fa9e6f383f8"
      },
      "execution_count": 24,
      "outputs": [
        {
          "output_type": "stream",
          "name": "stdout",
          "text": [
            "最大の長さ: {} 477\n",
            "平均の長さ: {} 46.367193108399135\n"
          ]
        }
      ]
    },
    {
      "cell_type": "code",
      "source": [
        "import matplotlib.pyplot as plt\n",
        "\n",
        "plt.hist([len(s) for s in X], bins = 50)\n",
        "plt.show()"
      ],
      "metadata": {
        "colab": {
          "base_uri": "https://localhost:8080/",
          "height": 265
        },
        "id": "_XBU_TvwkXJF",
        "outputId": "10574d84-5a47-48aa-bfa6-506fac6f4dff"
      },
      "execution_count": 25,
      "outputs": [
        {
          "output_type": "display_data",
          "data": {
            "text/plain": [
              "<Figure size 432x288 with 1 Axes>"
            ],
            "image/png": "[encoded data removed]"
          },
          "metadata": {
            "needs_background": "light"
          }
        }
      ]
    },
    {
      "cell_type": "code",
      "source": [
        "X_train, X_test, Y_train, Y_test = train_test_split(X, Y, test_size = 0.2)\n",
        "\n",
        "tfidf = TfidfVectorizer(min_df = 2, ngram_range = (1, 2), stop_words = 'english', strip_accents = 'unicode', norm = 'l2')\n",
        "X_train = tfidf.fit_transform(X_train)\n",
        "X_test = tfidf.transform(X_test)\n",
        "\n",
        "le = LabelEncoder()\n",
        "Y_train = le.fit_transform(Y_train)\n",
        "Y_test = le.transform(Y_test)\n",
        "print(X_train.shape, X_test.shape, Y_train.shape, Y_test.shape)"
      ],
      "metadata": {
        "colab": {
          "base_uri": "https://localhost:8080/"
        },
        "id": "ONY1lAHClpCv",
        "outputId": "cc8490d8-bd02-4273-dd70-e330f3cf7c91"
      },
      "execution_count": 26,
      "outputs": [
        {
          "output_type": "stream",
          "name": "stdout",
          "text": [
            "(4457, 5986) (1115, 5986) (4457,) (1115,)\n"
          ]
        }
      ]
    },
    {
      "cell_type": "markdown",
      "source": [
        "## Logistic Regression\n",
        "\n",
        "* クラスが2つの2進分類のためのモデル\n",
        "* ロジスティック回帰の予測関数を定義\n",
        "\n",
        "\\begin{equation}\n",
        "\\sigma(x) = \\frac{1}{1 + e^{-x}} \\\\\n",
        "\\hat{y} = \\sigma(w_0 + w_1 x_1 + ... + w_p x_p)\n",
        "\\end{equation}\n",
        "\n",
        "* $\\sigma$: シグモイド関数\n",
        "  \n",
        "* ロジスティック回帰モデルは、線形回帰モデルにシグモイド関数を適用。\n",
        "\n",
        "* ロジスティック回帰の学習目標は次のような目的関数を最小化するパラメータ$w$を探すこと。\n",
        "\n",
        "\\begin{equation}\n",
        "BinaryCrossEntropy = -\\frac{1}{N}\\sum_{i=1}^{N}y_i\\log(\\hat{y}_i) + (1-y_i)\\log(1-\\hat{y}_i)\n",
        "\\end{equation}\n",
        "\n",
        "* Logistic Regressionは、特性上多重分類には適合してない。"
      ],
      "metadata": {
        "id": "3fE55tzGt0xN"
      }
    },
    {
      "cell_type": "code",
      "source": [
        "from sklearn.linear_model import LogisticRegression\n",
        "from sklearn.metrics import accuracy_score\n",
        "from sklearn.metrics import confusion_matrix\n",
        "from sklearn.metrics import classification_report\n",
        "\n",
        "LR = LogisticRegression()\n",
        "LR.fit(X_train, Y_train)\n",
        "\n",
        "pred = LR.predict(X_test)\n",
        "acc = accuracy_score(pred, Y_test)\n",
        "print(acc)\n",
        "\n",
        "cm = confusion_matrix(Y_test, pred)\n",
        "print(cm)\n",
        "\n",
        "cr = classification_report(Y_test, pred)\n",
        "print(cr)"
      ],
      "metadata": {
        "colab": {
          "base_uri": "https://localhost:8080/"
        },
        "id": "ApOVa639vAXl",
        "outputId": "463752cc-deac-4c34-c0d6-84a38e1001b7"
      },
      "execution_count": 27,
      "outputs": [
        {
          "output_type": "stream",
          "name": "stdout",
          "text": [
            "0.968609865470852\n",
            "[[965   3]\n",
            " [ 32 115]]\n",
            "              precision    recall  f1-score   support\n",
            "\n",
            "           0       0.97      1.00      0.98       968\n",
            "           1       0.97      0.78      0.87       147\n",
            "\n",
            "    accuracy                           0.97      1115\n",
            "   macro avg       0.97      0.89      0.93      1115\n",
            "weighted avg       0.97      0.97      0.97      1115\n",
            "\n"
          ]
        }
      ]
    },
    {
      "cell_type": "markdown",
      "source": [
        "## Naive Bayes Classification\n",
        "\n",
        "* ベイズ整理を利用した確率的分類アルゴリズム\n",
        "* 全ての特性が独立している想定\n",
        "* 入力特性により3つの分類が存在\n",
        " * Gaussian Naive Bayes Classification\n",
        " * Bernui Naive Bayes Classification\n",
        " * 多項Naive Bayes Classification"
      ],
      "metadata": {
        "id": "bUMYcMliO2rR"
      }
    },
    {
      "cell_type": "code",
      "source": [
        "from sklearn.naive_bayes import MultinomialNB\n",
        "\n",
        "NB = MultinomialNB()\n",
        "NB.fit(X_train, Y_train)\n",
        "\n",
        "pred = NB.predict(X_test)\n",
        "acc = accuracy_score(pred, Y_test)\n",
        "print(acc)\n",
        "\n",
        "cm = confusion_matrix(Y_test, pred)\n",
        "print(cm)\n",
        "\n",
        "cr = classification_report(Y_test, pred)\n",
        "print(cr)"
      ],
      "metadata": {
        "colab": {
          "base_uri": "https://localhost:8080/"
        },
        "id": "DE9sHV_QPrwb",
        "outputId": "5533c932-5920-43d8-ab10-1a1be4965eef"
      },
      "execution_count": 28,
      "outputs": [
        {
          "output_type": "stream",
          "name": "stdout",
          "text": [
            "0.9713004484304932\n",
            "[[968   0]\n",
            " [ 32 115]]\n",
            "              precision    recall  f1-score   support\n",
            "\n",
            "           0       0.97      1.00      0.98       968\n",
            "           1       1.00      0.78      0.88       147\n",
            "\n",
            "    accuracy                           0.97      1115\n",
            "   macro avg       0.98      0.89      0.93      1115\n",
            "weighted avg       0.97      0.97      0.97      1115\n",
            "\n"
          ]
        }
      ]
    },
    {
      "cell_type": "markdown",
      "source": [
        "## サポート・ベクター・マシン\n",
        "\n",
        "* 回帰、分類、異常値探知等に利用する指導学習\n",
        "* サポート・ベクター：クラス同士の境界に位置したデータポイント\n",
        "* 各サポート・ベクターがクラス間の決定境界の区分にどれくらい重要かを学習\n",
        "* 各サポート・ベクター間のマージンが最も大きい方向へ学習\n",
        "* サポート・ベクターまでの距離とサポート・ベクターの重要度を根拠に予測を実行"
      ],
      "metadata": {
        "id": "TDeMhQN-XzBV"
      }
    },
    {
      "cell_type": "code",
      "source": [
        "from sklearn import svm\n",
        "\n",
        "SVM = svm.SVC(kernel = 'linear')\n",
        "SVM.fit(X_train, Y_train)\n",
        "\n",
        "pred = SVM.predict(X_test)\n",
        "acc = accuracy_score(pred, Y_test)\n",
        "print(acc)\n",
        "\n",
        "cm = confusion_matrix(Y_test, pred)\n",
        "print(cm)\n",
        "\n",
        "cr = classification_report(Y_test, pred)\n",
        "print(cr)"
      ],
      "metadata": {
        "colab": {
          "base_uri": "https://localhost:8080/"
        },
        "id": "OVo-_7nVY31b",
        "outputId": "d06f8c3c-e547-4893-dde3-51af28963a5c"
      },
      "execution_count": 29,
      "outputs": [
        {
          "output_type": "stream",
          "name": "stdout",
          "text": [
            "0.9847533632286996\n",
            "[[964   4]\n",
            " [ 13 134]]\n",
            "              precision    recall  f1-score   support\n",
            "\n",
            "           0       0.99      1.00      0.99       968\n",
            "           1       0.97      0.91      0.94       147\n",
            "\n",
            "    accuracy                           0.98      1115\n",
            "   macro avg       0.98      0.95      0.97      1115\n",
            "weighted avg       0.98      0.98      0.98      1115\n",
            "\n"
          ]
        }
      ]
    },
    {
      "cell_type": "markdown",
      "source": [
        "## 確率的傾斜下向法（Stochastic Gradient Descent）"
      ],
      "metadata": {
        "id": "p99cNBEVZa4A"
      }
    },
    {
      "cell_type": "code",
      "source": [
        "from sklearn.linear_model import SGDClassifier\n",
        "\n",
        "SGD = SGDClassifier(alpha = .0001)\n",
        "SGD.fit(X_train, Y_train)\n",
        "\n",
        "pred = SGD.predict(X_test)\n",
        "acc = accuracy_score(pred, Y_test)\n",
        "print(acc)\n",
        "\n",
        "cm = confusion_matrix(Y_test, pred)\n",
        "print(cm)\n",
        "\n",
        "cr = classification_report(Y_test, pred)\n",
        "print(cr)"
      ],
      "metadata": {
        "colab": {
          "base_uri": "https://localhost:8080/"
        },
        "id": "EdLgmwp1Zl8v",
        "outputId": "50289cfb-51fa-4f66-8da9-f7efb7d9237e"
      },
      "execution_count": 30,
      "outputs": [
        {
          "output_type": "stream",
          "name": "stdout",
          "text": [
            "0.9829596412556054\n",
            "[[961   7]\n",
            " [ 12 135]]\n",
            "              precision    recall  f1-score   support\n",
            "\n",
            "           0       0.99      0.99      0.99       968\n",
            "           1       0.95      0.92      0.93       147\n",
            "\n",
            "    accuracy                           0.98      1115\n",
            "   macro avg       0.97      0.96      0.96      1115\n",
            "weighted avg       0.98      0.98      0.98      1115\n",
            "\n"
          ]
        }
      ]
    },
    {
      "cell_type": "markdown",
      "source": [
        "## 決定木（Decision Tree）\n",
        "\n",
        "* 分類、回帰に利用する指導学習方法\n",
        "* データ特性から推論した決定規則から値を予測\n",
        "* if-then-else決定規則からデータ学習"
      ],
      "metadata": {
        "id": "HIGNG4CVaYTH"
      }
    },
    {
      "cell_type": "code",
      "source": [
        "from sklearn.tree import DecisionTreeClassifier\n",
        "\n",
        "DT = DecisionTreeClassifier()\n",
        "DT.fit(X_train, Y_train)\n",
        "\n",
        "pred = DT.predict(X_test)\n",
        "acc = accuracy_score(pred, Y_test)\n",
        "print(acc)\n",
        "\n",
        "cm = confusion_matrix(Y_test, pred)\n",
        "print(cm)\n",
        "\n",
        "cr = classification_report(Y_test, pred)\n",
        "print(cr)"
      ],
      "metadata": {
        "colab": {
          "base_uri": "https://localhost:8080/"
        },
        "id": "AByZhm-ta4oW",
        "outputId": "1ef9a241-0056-46db-a9d5-7b8cb63e2507"
      },
      "execution_count": 31,
      "outputs": [
        {
          "output_type": "stream",
          "name": "stdout",
          "text": [
            "0.9614349775784753\n",
            "[[941  27]\n",
            " [ 16 131]]\n",
            "              precision    recall  f1-score   support\n",
            "\n",
            "           0       0.98      0.97      0.98       968\n",
            "           1       0.83      0.89      0.86       147\n",
            "\n",
            "    accuracy                           0.96      1115\n",
            "   macro avg       0.91      0.93      0.92      1115\n",
            "weighted avg       0.96      0.96      0.96      1115\n",
            "\n"
          ]
        }
      ]
    },
    {
      "cell_type": "markdown",
      "source": [
        "## ランダム・フォレスト（Random Forest）\n",
        "\n",
        "* アンサンブル学習方法の一つ\n",
        "* 多数の決定木を利用して分類、回帰に利用"
      ],
      "metadata": {
        "id": "hymJAVD5blgR"
      }
    },
    {
      "cell_type": "code",
      "source": [
        "from sklearn.ensemble import RandomForestClassifier\n",
        "\n",
        "RF = RandomForestClassifier(n_estimators = 10)\n",
        "RF.fit(X_train, Y_train)\n",
        "\n",
        "pred = RF.predict(X_test)\n",
        "acc = accuracy_score(pred, Y_test)\n",
        "print(acc)\n",
        "\n",
        "cm = confusion_matrix(Y_test, pred)\n",
        "print(cm)\n",
        "\n",
        "cr = classification_report(Y_test, pred)\n",
        "print(cr)"
      ],
      "metadata": {
        "colab": {
          "base_uri": "https://localhost:8080/"
        },
        "id": "5-eW7rE2b4zY",
        "outputId": "db4243c0-fda4-4865-bbb1-26b3d4eafe4c"
      },
      "execution_count": 32,
      "outputs": [
        {
          "output_type": "stream",
          "name": "stdout",
          "text": [
            "0.9739910313901345\n",
            "[[966   2]\n",
            " [ 27 120]]\n",
            "              precision    recall  f1-score   support\n",
            "\n",
            "           0       0.97      1.00      0.99       968\n",
            "           1       0.98      0.82      0.89       147\n",
            "\n",
            "    accuracy                           0.97      1115\n",
            "   macro avg       0.98      0.91      0.94      1115\n",
            "weighted avg       0.97      0.97      0.97      1115\n",
            "\n"
          ]
        }
      ]
    },
    {
      "cell_type": "markdown",
      "source": [
        "## XGBoost\n",
        "\n",
        "* 木基盤のアンサンブル学習方法\n",
        "* 分類で他のアルゴリズムより優れた予測性能\n",
        "* XGBoostはGBM基盤だが、GBMの短所である遅い遂行時間と過適合規制不在等の問題を解決\n",
        "* 並列CPU環境で速く学習可能"
      ],
      "metadata": {
        "id": "35O2g4WscxNJ"
      }
    },
    {
      "cell_type": "code",
      "source": [
        "from xgboost import XGBClassifier\n",
        "\n",
        "XGB = XGBClassifier()\n",
        "XGB.fit(X_train, Y_train)\n",
        "\n",
        "pred = XGB.predict(X_test)\n",
        "acc = accuracy_score(pred, Y_test)\n",
        "print(acc)\n",
        "\n",
        "cm = confusion_matrix(Y_test, pred)\n",
        "print(cm)\n",
        "\n",
        "cr = classification_report(Y_test, pred)\n",
        "print(cr)"
      ],
      "metadata": {
        "colab": {
          "base_uri": "https://localhost:8080/"
        },
        "id": "FeehA58adcBB",
        "outputId": "3f725623-5696-4d3f-d174-f895c648d787"
      },
      "execution_count": 33,
      "outputs": [
        {
          "output_type": "stream",
          "name": "stdout",
          "text": [
            "0.9587443946188341\n",
            "[[967   1]\n",
            " [ 45 102]]\n",
            "              precision    recall  f1-score   support\n",
            "\n",
            "           0       0.96      1.00      0.98       968\n",
            "           1       0.99      0.69      0.82       147\n",
            "\n",
            "    accuracy                           0.96      1115\n",
            "   macro avg       0.97      0.85      0.90      1115\n",
            "weighted avg       0.96      0.96      0.96      1115\n",
            "\n"
          ]
        }
      ]
    },
    {
      "cell_type": "markdown",
      "source": [
        "## ニュースグループデータ分類\n",
        "\n",
        "* 文書分類に必要なデータはscikit-learnが提供する20個のテーマで分けられたニュースグループのデータを利用。\n",
        "\n",
        "* テキストはTfidfTransformerを使ってTFーIDF形式に変更"
      ],
      "metadata": {
        "id": "R2hfnIurSvWj"
      }
    },
    {
      "cell_type": "code",
      "source": [
        "from sklearn.datasets import fetch_20newsgroups\n",
        "from sklearn.feature_extraction.text import TfidfTransformer\n",
        "\n",
        "news = fetch_20newsgroups()\n",
        "\n",
        "X = news.data\n",
        "Y = news.target"
      ],
      "metadata": {
        "id": "5PosexV0TN5b"
      },
      "execution_count": 34,
      "outputs": []
    },
    {
      "cell_type": "code",
      "source": [
        "print('最大の長さ： {}', format(max(len(l) for l in X)))\n",
        "print('平均の長さ： {}', format((sum(map(len, X)) / len(X))))"
      ],
      "metadata": {
        "colab": {
          "base_uri": "https://localhost:8080/"
        },
        "id": "qXWSs2YzUKiU",
        "outputId": "259de4c4-fa0a-4d6a-d260-5abeea0c8af8"
      },
      "execution_count": 35,
      "outputs": [
        {
          "output_type": "stream",
          "name": "stdout",
          "text": [
            "最大の長さ： {} 75154\n",
            "平均の長さ： {} 1949.3100583348064\n"
          ]
        }
      ]
    },
    {
      "cell_type": "code",
      "source": [
        "import matplotlib.pyplot as plt\n",
        "plt.hist([len(s) for s in X], bins = 50)\n",
        "plt.show()"
      ],
      "metadata": {
        "colab": {
          "base_uri": "https://localhost:8080/",
          "height": 266
        },
        "id": "9xXffkabUodk",
        "outputId": "ae550804-56d3-46fa-e8e7-b368c2b3c4cd"
      },
      "execution_count": 36,
      "outputs": [
        {
          "output_type": "display_data",
          "data": {
            "text/plain": [
              "<Figure size 432x288 with 1 Axes>"
            ],
            "image/png": "[encoded data removed]"
          },
          "metadata": {
            "needs_background": "light"
          }
        }
      ]
    },
    {
      "cell_type": "code",
      "source": [
        "X_train, X_test, Y_train, Y_test = train_test_split(X, Y, test_size = 0.25)\n",
        "\n",
        "tfidf = TfidfVectorizer(min_df = 2, ngram_range = (1, 2), stop_words = 'english', strip_accents = 'unicode', norm = 'l2')\n",
        "X_train = tfidf.fit_transform(X_train)\n",
        "X_test = tfidf.transform(X_test)\n",
        "\n",
        "le = LabelEncoder()\n",
        "Y_train = le.fit_transform(Y_train)\n",
        "Y_test = le.transform(Y_test)\n",
        "print(X_train.shape, X_test.shape, Y_train.shape, Y_test.shape)"
      ],
      "metadata": {
        "colab": {
          "base_uri": "https://localhost:8080/"
        },
        "id": "Y-305EUtWc_X",
        "outputId": "8d9d9087-0f23-4dd3-e204-71356e276836"
      },
      "execution_count": 39,
      "outputs": [
        {
          "output_type": "stream",
          "name": "stdout",
          "text": [
            "(8485, 224671) (2829, 224671) (8485,) (2829,)\n"
          ]
        }
      ]
    },
    {
      "cell_type": "markdown",
      "source": [
        "## Naive Bayes"
      ],
      "metadata": {
        "id": "Xt7bgN4CXi9t"
      }
    },
    {
      "cell_type": "code",
      "source": [
        "from sklearn.naive_bayes import MultinomialNB\n",
        "\n",
        "NB = MultinomialNB()\n",
        "NB.fit(X_train, Y_train)\n",
        "\n",
        "pred = NB.predict(X_test)\n",
        "acc = accuracy_score(pred, Y_test)\n",
        "print(acc)\n",
        "\n",
        "cm = confusion_matrix(Y_test, pred)\n",
        "print(cm)\n",
        "\n",
        "cr = classification_report(Y_test, pred)\n",
        "print(cr)"
      ],
      "metadata": {
        "colab": {
          "base_uri": "https://localhost:8080/"
        },
        "id": "8cZnSYxWXlKs",
        "outputId": "6306b304-3c39-4244-e7bc-42031ae5485c"
      },
      "execution_count": 40,
      "outputs": [
        {
          "output_type": "stream",
          "name": "stdout",
          "text": [
            "0.8727465535524921\n",
            "[[110   0   0   0   0   0   0   0   0   1   1   0   0   0   1  11   1   1\n",
            "    0   0]\n",
            " [  1 115   2   3   3   6   3   1   1   0   1   1   0   0   4   2   0   0\n",
            "    0   0]\n",
            " [  1   3 123   3   2   4   3   0   0   1   1   1   0   0   0   0   0   0\n",
            "    0   0]\n",
            " [  0   3   8 131   7   4   9   0   2   0   2   1   1   1   1   0   2   1\n",
            "    0   0]\n",
            " [  0   1   3   5 117   0   4   0   2   3   3   1   3   1   0   1   1   2\n",
            "    0   0]\n",
            " [  0   5   1   1   0 127   2   0   1   2   2   0   0   0   0   0   0   1\n",
            "    0   0]\n",
            " [  0   0   1   3   1   0 109   2   0   2   2   0   3   3   1   0   0   0\n",
            "    0   0]\n",
            " [  0   1   0   0   1   0   3 142   4   1   3   0   0   1   1   1   2   0\n",
            "    0   0]\n",
            " [  0   0   0   0   0   0   3   2 131   0   1   0   0   0   0   0   1   0\n",
            "    0   0]\n",
            " [  0   0   0   0   0   0   1   0   1 126   4   0   1   0   0   0   0   0\n",
            "    0   0]\n",
            " [  0   1   0   0   0   0   2   0   0   1 139   0   0   0   0   0   0   0\n",
            "    0   0]\n",
            " [  0   1   1   0   0   0   0   0   0   0   0 157   0   0   0   0   2   0\n",
            "    0   0]\n",
            " [  1   4   2   4   4   1   1   4   1   0   3   1 120   1   8   2   0   1\n",
            "    0   0]\n",
            " [  0   1   1   0   0   0   1   0   3   1   1   2   1 140   0   3   0   0\n",
            "    0   0]\n",
            " [  0   2   0   0   0   0   2   0   0   0   0   0   1   1 135   0   1   1\n",
            "    0   0]\n",
            " [  0   0   0   0   0   1   1   1   0   0   0   0   0   0   0 144   0   1\n",
            "    0   0]\n",
            " [  0   0   0   0   0   0   0   1   1   2   1   0   0   0   1   1 133   3\n",
            "    0   0]\n",
            " [  0   0   0   0   0   0   1   0   0   0   1   0   1   0   0   2   0 147\n",
            "    0   0]\n",
            " [  0   0   0   0   0   0   2   0   0   1   2   1   0   0   1   4   2   2\n",
            "   88   0]\n",
            " [ 14   0   0   0   0   1   1   1   1   1   0   0   0   2   0  28   6   2\n",
            "    1  35]]\n",
            "              precision    recall  f1-score   support\n",
            "\n",
            "           0       0.87      0.87      0.87       126\n",
            "           1       0.84      0.80      0.82       143\n",
            "           2       0.87      0.87      0.87       142\n",
            "           3       0.87      0.76      0.81       173\n",
            "           4       0.87      0.80      0.83       147\n",
            "           5       0.88      0.89      0.89       142\n",
            "           6       0.74      0.86      0.79       127\n",
            "           7       0.92      0.89      0.90       160\n",
            "           8       0.89      0.95      0.92       138\n",
            "           9       0.89      0.95      0.92       133\n",
            "          10       0.83      0.97      0.90       143\n",
            "          11       0.95      0.98      0.96       161\n",
            "          12       0.92      0.76      0.83       158\n",
            "          13       0.93      0.91      0.92       154\n",
            "          14       0.88      0.94      0.91       143\n",
            "          15       0.72      0.97      0.83       148\n",
            "          16       0.88      0.93      0.90       143\n",
            "          17       0.91      0.97      0.94       152\n",
            "          18       0.99      0.85      0.92       103\n",
            "          19       1.00      0.38      0.55        93\n",
            "\n",
            "    accuracy                           0.87      2829\n",
            "   macro avg       0.88      0.86      0.86      2829\n",
            "weighted avg       0.88      0.87      0.87      2829\n",
            "\n"
          ]
        }
      ]
    },
    {
      "cell_type": "markdown",
      "source": [
        "## サポート・ベクター"
      ],
      "metadata": {
        "id": "E97Tjj9zYBFi"
      }
    },
    {
      "cell_type": "code",
      "source": [
        "from sklearn import svm\n",
        "\n",
        "SVM = svm.SVC(kernel = 'linear')\n",
        "SVM.fit(X_train, Y_train)\n",
        "\n",
        "pred = SVM.predict(X_test)\n",
        "acc = accuracy_score(pred, Y_test)\n",
        "print(acc)\n",
        "\n",
        "cm = confusion_matrix(Y_test, pred)\n",
        "print(cm)\n",
        "\n",
        "cr = classification_report(Y_test, pred)\n",
        "print(cr)"
      ],
      "metadata": {
        "colab": {
          "base_uri": "https://localhost:8080/"
        },
        "id": "EjpQxPTBYEU9",
        "outputId": "c40e48da-8b73-4172-e7c5-341ef6ab2062"
      },
      "execution_count": 41,
      "outputs": [
        {
          "output_type": "stream",
          "name": "stdout",
          "text": [
            "0.9095086603039944\n",
            "[[116   0   0   0   0   0   0   0   0   1   0   0   0   0   0   3   0   0\n",
            "    1   5]\n",
            " [  1 120   2   4   1   7   3   0   1   0   0   0   2   0   1   1   0   0\n",
            "    0   0]\n",
            " [  0   5 126   3   0   4   2   0   0   0   1   0   1   0   0   0   0   0\n",
            "    0   0]\n",
            " [  0   3   6 142   8   1   6   0   0   0   0   0   5   1   0   0   0   1\n",
            "    0   0]\n",
            " [  0   4   0   7 126   1   2   0   0   1   0   0   6   0   0   0   0   0\n",
            "    0   0]\n",
            " [  0   8   2   0   0 128   2   0   0   2   0   0   0   0   0   0   0   0\n",
            "    0   0]\n",
            " [  0   0   1   4   4   0 111   3   0   0   0   0   3   1   0   0   0   0\n",
            "    0   0]\n",
            " [  0   1   1   0   2   0   3 147   1   1   1   0   1   1   0   0   1   0\n",
            "    0   0]\n",
            " [  0   0   1   0   0   0   3   3 129   0   1   0   1   0   0   0   0   0\n",
            "    0   0]\n",
            " [  0   1   1   0   1   0   1   1   1 126   1   0   0   0   0   0   0   0\n",
            "    0   0]\n",
            " [  0   1   0   0   1   0   2   0   0   3 136   0   0   0   0   0   0   0\n",
            "    0   0]\n",
            " [  0   1   2   0   1   1   0   0   0   0   0 154   1   0   0   0   1   0\n",
            "    0   0]\n",
            " [  0   3   0   7   4   0   1   3   0   0   0   0 139   1   0   0   0   0\n",
            "    0   0]\n",
            " [  0   1   0   0   2   0   1   1   0   0   0   1   3 144   0   1   0   0\n",
            "    0   0]\n",
            " [  0   2   0   0   2   0   1   0   0   1   0   0   2   1 133   0   0   0\n",
            "    1   0]\n",
            " [  0   0   0   0   0   0   1   1   0   1   0   1   1   0   0 140   0   1\n",
            "    0   2]\n",
            " [  0   0   0   0   0   0   0   1   0   1   0   0   2   0   0   1 136   0\n",
            "    2   0]\n",
            " [  0   0   0   0   0   0   1   0   0   0   0   0   0   1   0   2   0 148\n",
            "    0   0]\n",
            " [  0   0   0   0   0   0   2   1   0   1   0   1   0   0   0   0   1   1\n",
            "   95   1]\n",
            " [  3   0   0   0   0   1   0   1   0   1   1   0   0   2   0   5   1   0\n",
            "    1  77]]\n",
            "              precision    recall  f1-score   support\n",
            "\n",
            "           0       0.97      0.92      0.94       126\n",
            "           1       0.80      0.84      0.82       143\n",
            "           2       0.89      0.89      0.89       142\n",
            "           3       0.85      0.82      0.84       173\n",
            "           4       0.83      0.86      0.84       147\n",
            "           5       0.90      0.90      0.90       142\n",
            "           6       0.78      0.87      0.83       127\n",
            "           7       0.91      0.92      0.91       160\n",
            "           8       0.98      0.93      0.96       138\n",
            "           9       0.91      0.95      0.93       133\n",
            "          10       0.96      0.95      0.96       143\n",
            "          11       0.98      0.96      0.97       161\n",
            "          12       0.83      0.88      0.86       158\n",
            "          13       0.95      0.94      0.94       154\n",
            "          14       0.99      0.93      0.96       143\n",
            "          15       0.92      0.95      0.93       148\n",
            "          16       0.97      0.95      0.96       143\n",
            "          17       0.98      0.97      0.98       152\n",
            "          18       0.95      0.92      0.94       103\n",
            "          19       0.91      0.83      0.87        93\n",
            "\n",
            "    accuracy                           0.91      2829\n",
            "   macro avg       0.91      0.91      0.91      2829\n",
            "weighted avg       0.91      0.91      0.91      2829\n",
            "\n"
          ]
        }
      ]
    },
    {
      "cell_type": "markdown",
      "source": [
        "## 確率的傾斜下向法"
      ],
      "metadata": {
        "id": "a5Wtrd3QYTlf"
      }
    },
    {
      "cell_type": "code",
      "source": [
        "from sklearn.linear_model import SGDClassifier\n",
        "\n",
        "SGD = SGDClassifier(alpha = .0001)\n",
        "SGD.fit(X_train, Y_train)\n",
        "\n",
        "pred = SGD.predict(X_test)\n",
        "acc = accuracy_score(pred, Y_test)\n",
        "print(acc)\n",
        "\n",
        "cm = confusion_matrix(Y_test, pred)\n",
        "print(cm)\n",
        "\n",
        "cr = classification_report(Y_test, pred)\n",
        "print(cr)"
      ],
      "metadata": {
        "colab": {
          "base_uri": "https://localhost:8080/"
        },
        "id": "VHQU2POtYYYV",
        "outputId": "7ab4a1b0-af67-4bfb-f8e0-8f59da2faf7c"
      },
      "execution_count": 42,
      "outputs": [
        {
          "output_type": "stream",
          "name": "stdout",
          "text": [
            "0.9257688229056203\n",
            "[[117   0   0   0   0   0   0   0   0   0   0   0   0   1   0   1   1   0\n",
            "    0   6]\n",
            " [  0 124   2   3   0   8   3   0   0   0   0   0   0   0   1   2   0   0\n",
            "    0   0]\n",
            " [  0   4 127   2   2   3   3   0   0   0   1   0   0   0   0   0   0   0\n",
            "    0   0]\n",
            " [  0   2   9 142   5   2   4   0   0   0   0   0   6   1   0   0   1   1\n",
            "    0   0]\n",
            " [  1   0   1   3 135   0   1   0   0   2   0   0   3   1   0   0   0   0\n",
            "    0   0]\n",
            " [  0   6   2   0   0 130   3   0   0   1   0   0   0   0   0   0   0   0\n",
            "    0   0]\n",
            " [  0   1   2   3   2   0 110   4   0   0   1   0   2   2   0   0   0   0\n",
            "    0   0]\n",
            " [  0   1   2   0   0   0   3 149   1   0   1   0   0   1   0   0   1   0\n",
            "    1   0]\n",
            " [  1   0   0   0   0   0   1   1 135   0   0   0   0   0   0   0   0   0\n",
            "    0   0]\n",
            " [  0   0   0   0   0   0   0   1   1 131   0   0   0   0   0   0   0   0\n",
            "    0   0]\n",
            " [  0   1   0   0   1   0   2   0   0   2 137   0   0   0   0   0   0   0\n",
            "    0   0]\n",
            " [  0   1   2   0   0   0   0   0   0   0   0 157   0   0   0   0   1   0\n",
            "    0   0]\n",
            " [  0   3   0   3   3   0   1   5   0   0   1   2 138   0   2   0   0   0\n",
            "    0   0]\n",
            " [  0   1   0   1   1   0   0   1   0   0   0   1   1 146   0   2   0   0\n",
            "    0   0]\n",
            " [  0   0   0   0   1   0   1   0   0   0   0   0   0   1 139   0   0   1\n",
            "    0   0]\n",
            " [  0   0   0   0   0   0   1   1   0   0   0   1   0   0   0 143   0   1\n",
            "    0   1]\n",
            " [  0   0   0   0   0   0   0   1   0   1   1   0   1   0   0   0 138   0\n",
            "    1   0]\n",
            " [  0   0   0   0   0   0   0   0   0   0   0   0   0   0   2   2   0 148\n",
            "    0   0]\n",
            " [  0   0   0   0   0   0   0   1   0   1   0   1   0   0   1   1   1   2\n",
            "   95   0]\n",
            " [  4   0   0   0   0   0   1   1   0   0   1   0   0   2   0   4   1   0\n",
            "    1  78]]\n",
            "              precision    recall  f1-score   support\n",
            "\n",
            "           0       0.95      0.93      0.94       126\n",
            "           1       0.86      0.87      0.86       143\n",
            "           2       0.86      0.89      0.88       142\n",
            "           3       0.90      0.82      0.86       173\n",
            "           4       0.90      0.92      0.91       147\n",
            "           5       0.91      0.92      0.91       142\n",
            "           6       0.82      0.87      0.84       127\n",
            "           7       0.90      0.93      0.92       160\n",
            "           8       0.99      0.98      0.98       138\n",
            "           9       0.95      0.98      0.97       133\n",
            "          10       0.96      0.96      0.96       143\n",
            "          11       0.97      0.98      0.97       161\n",
            "          12       0.91      0.87      0.89       158\n",
            "          13       0.94      0.95      0.94       154\n",
            "          14       0.96      0.97      0.97       143\n",
            "          15       0.92      0.97      0.94       148\n",
            "          16       0.96      0.97      0.96       143\n",
            "          17       0.97      0.97      0.97       152\n",
            "          18       0.97      0.92      0.95       103\n",
            "          19       0.92      0.84      0.88        93\n",
            "\n",
            "    accuracy                           0.93      2829\n",
            "   macro avg       0.93      0.92      0.93      2829\n",
            "weighted avg       0.93      0.93      0.93      2829\n",
            "\n"
          ]
        }
      ]
    },
    {
      "cell_type": "markdown",
      "source": [
        "## 決定木"
      ],
      "metadata": {
        "id": "fM9uwoM2Yeq3"
      }
    },
    {
      "cell_type": "code",
      "source": [
        "from sklearn.tree import DecisionTreeClassifier\n",
        "\n",
        "DT = DecisionTreeClassifier()\n",
        "DT.fit(X_train, Y_train)\n",
        "\n",
        "pred = DT.predict(X_test)\n",
        "acc = accuracy_score(pred, Y_test)\n",
        "print(acc)\n",
        "\n",
        "cm = confusion_matrix(Y_test, pred)\n",
        "print(cm)\n",
        "\n",
        "cr = classification_report(Y_test, pred)\n",
        "print(cr)"
      ],
      "metadata": {
        "colab": {
          "base_uri": "https://localhost:8080/"
        },
        "id": "emMaZH5nYhDX",
        "outputId": "426e432e-ae04-4d41-b175-9c62f606d8b5"
      },
      "execution_count": 43,
      "outputs": [
        {
          "output_type": "stream",
          "name": "stdout",
          "text": [
            "0.6677271120537293\n",
            "[[ 88   0   0   1   2   0   2   5   0   2   0   0   0   4   1   6   1   1\n",
            "    4   9]\n",
            " [  1  79   7  10   6   9   6   5   3   2   3   1   6   2   1   0   0   1\n",
            "    0   1]\n",
            " [  0  12  96   9   4   6   2   0   2   3   0   0   2   0   0   1   0   0\n",
            "    2   3]\n",
            " [  1   8  27  79  10   4  15   4   1   0   1   1  13   2   1   2   0   0\n",
            "    3   1]\n",
            " [  1   5   4  10  86   7   8   2   1   1   1   0   9   0   5   2   1   0\n",
            "    2   2]\n",
            " [  0   9  11   3   3  90   1   0   1   3   2   2   5   3   4   2   0   0\n",
            "    2   1]\n",
            " [  0   1   1   5   5   0  87   9   1   1   1   2   7   1   3   1   1   0\n",
            "    0   1]\n",
            " [  0   2   3   2   4   3  11 102   8   1   2   0   4   6   4   2   4   1\n",
            "    0   1]\n",
            " [  0   4   1   2   2   1   1   7 106   1   1   0   1   1   4   0   3   0\n",
            "    1   2]\n",
            " [  0   2   1   2   1   4   3   2   2  96  10   3   4   0   0   0   2   0\n",
            "    1   0]\n",
            " [  1   0   1   2   1   1   5   1   1  11 113   0   2   0   1   0   1   0\n",
            "    1   1]\n",
            " [  0   3   3   1   1   1   0   1   3   3   0 131   3   2   2   0   2   0\n",
            "    5   0]\n",
            " [  1   4   5  12   9   8   7  10   1   4   3   4  70   1   4   1   9   1\n",
            "    2   2]\n",
            " [  1   4   0   6   1   3   1   3   2   0   2   3   7 113   4   1   0   0\n",
            "    1   2]\n",
            " [  0   2   0   5   4   3   2   6   2   4   1   1   7   1  98   1   2   0\n",
            "    4   0]\n",
            " [  2   1   0   2   1   1   1   2   2   2   0   0   1   1   0 120   1   2\n",
            "    1   8]\n",
            " [  3   0   0   2   1   2   1   3   4   2   1   1   2   2   2   2 105   1\n",
            "    4   5]\n",
            " [  3   0   0   2   1   0   0   1   1   4   0   2   4   1   3   5   1 116\n",
            "    4   4]\n",
            " [  3   0   0   2   0   1   1   3   1   4   0   1   4   2   0   1   3   3\n",
            "   70   4]\n",
            " [ 12   1   0   1   3   1   0   1   1   0   1   1   0   4   0  10   5   4\n",
            "    4  44]]\n",
            "              precision    recall  f1-score   support\n",
            "\n",
            "           0       0.75      0.70      0.72       126\n",
            "           1       0.58      0.55      0.56       143\n",
            "           2       0.60      0.68      0.64       142\n",
            "           3       0.50      0.46      0.48       173\n",
            "           4       0.59      0.59      0.59       147\n",
            "           5       0.62      0.63      0.63       142\n",
            "           6       0.56      0.69      0.62       127\n",
            "           7       0.61      0.64      0.62       160\n",
            "           8       0.74      0.77      0.75       138\n",
            "           9       0.67      0.72      0.69       133\n",
            "          10       0.80      0.79      0.79       143\n",
            "          11       0.86      0.81      0.83       161\n",
            "          12       0.46      0.44      0.45       158\n",
            "          13       0.77      0.73      0.75       154\n",
            "          14       0.72      0.69      0.70       143\n",
            "          15       0.76      0.81      0.79       148\n",
            "          16       0.74      0.73      0.74       143\n",
            "          17       0.89      0.76      0.82       152\n",
            "          18       0.63      0.68      0.65       103\n",
            "          19       0.48      0.47      0.48        93\n",
            "\n",
            "    accuracy                           0.67      2829\n",
            "   macro avg       0.67      0.67      0.67      2829\n",
            "weighted avg       0.67      0.67      0.67      2829\n",
            "\n"
          ]
        }
      ]
    },
    {
      "cell_type": "markdown",
      "source": [
        "## ランダムフォレスト"
      ],
      "metadata": {
        "id": "bPc3LOpaYqnP"
      }
    },
    {
      "cell_type": "code",
      "source": [
        "from sklearn.ensemble import RandomForestClassifier\n",
        "\n",
        "RF = RandomForestClassifier(n_estimators = 10)\n",
        "RF.fit(X_train, Y_train)\n",
        "\n",
        "pred = RF.predict(X_test)\n",
        "acc = accuracy_score(pred, Y_test)\n",
        "print(acc)\n",
        "\n",
        "cm = confusion_matrix(Y_test, pred)\n",
        "print(cm)\n",
        "\n",
        "cr = classification_report(Y_test, pred)\n",
        "print(cr)"
      ],
      "metadata": {
        "colab": {
          "base_uri": "https://localhost:8080/"
        },
        "id": "k7sliw-oYtsM",
        "outputId": "c845b21b-4c6b-45c9-ebdc-dbe0ca4f42c7"
      },
      "execution_count": 44,
      "outputs": [
        {
          "output_type": "stream",
          "name": "stdout",
          "text": [
            "0.7419582891481089\n",
            "[[103   0   0   0   2   2   0   1   1   0   0   0   0   2   1   6   1   0\n",
            "    1   6]\n",
            " [  2  97   6   5   9  11   3   1   1   1   0   0   3   1   2   1   0   0\n",
            "    0   0]\n",
            " [  0  12 105   7   1   8   4   0   0   1   1   0   2   0   0   1   0   0\n",
            "    0   0]\n",
            " [  0  19  17  89  14   5   9   5   0   1   1   3   6   2   1   0   1   0\n",
            "    0   0]\n",
            " [  1   9   3  18  98   2   5   2   0   2   0   0   5   1   0   1   0   0\n",
            "    0   0]\n",
            " [  0  16   8   4   4 105   0   1   1   1   0   0   1   0   1   0   0   0\n",
            "    0   0]\n",
            " [  0   3   4   4   8   3  94   3   0   0   1   0   6   0   0   1   0   0\n",
            "    0   0]\n",
            " [  1   7   0   3   1   1   7 130   3   1   0   1   2   2   0   0   1   0\n",
            "    0   0]\n",
            " [  1   2   1   3   3   0   6   3 115   1   1   0   1   0   1   0   0   0\n",
            "    0   0]\n",
            " [  0   4   0   1   2   1   1   0   3 102  16   0   2   1   0   0   0   0\n",
            "    0   0]\n",
            " [  0   4   0   1   2   0   2   1   1  13 118   0   1   0   0   0   0   0\n",
            "    0   0]\n",
            " [  1   5   2   1   2   0   0   0   0   0   0 147   0   1   0   0   2   0\n",
            "    0   0]\n",
            " [  0  18   8   9  12   7   7  12   2   2   1   3  69   1   7   0   0   0\n",
            "    0   0]\n",
            " [  0   8   0   3   2   2   4   1   2   2   3   0  10 116   0   0   0   0\n",
            "    1   0]\n",
            " [  0   7   2   1   5   1   2   2   0   0   2   1   3   1 113   2   1   0\n",
            "    0   0]\n",
            " [  3   3   0   0   1   2   0   1   1   2   0   0   0   1   1 131   0   0\n",
            "    0   2]\n",
            " [  0   5   0   4   2   1   1   2   1   0   2   0   4   1   6   1 113   0\n",
            "    0   0]\n",
            " [  1   2   0   1   0   2   2   1   0   2   1   1   1   0   1   1   1 135\n",
            "    0   0]\n",
            " [  1   3   1   4   3   1   1   4   2   3   1   0   1   1   0   3   4   1\n",
            "   68   1]\n",
            " [  8   0   1   1   0   2   0   0   0   1   1   0   0   2   1  17   6   0\n",
            "    2  51]]\n",
            "              precision    recall  f1-score   support\n",
            "\n",
            "           0       0.84      0.82      0.83       126\n",
            "           1       0.43      0.68      0.53       143\n",
            "           2       0.66      0.74      0.70       142\n",
            "           3       0.56      0.51      0.54       173\n",
            "           4       0.57      0.67      0.62       147\n",
            "           5       0.67      0.74      0.70       142\n",
            "           6       0.64      0.74      0.68       127\n",
            "           7       0.76      0.81      0.79       160\n",
            "           8       0.86      0.83      0.85       138\n",
            "           9       0.76      0.77      0.76       133\n",
            "          10       0.79      0.83      0.81       143\n",
            "          11       0.94      0.91      0.93       161\n",
            "          12       0.59      0.44      0.50       158\n",
            "          13       0.87      0.75      0.81       154\n",
            "          14       0.84      0.79      0.81       143\n",
            "          15       0.79      0.89      0.84       148\n",
            "          16       0.87      0.79      0.83       143\n",
            "          17       0.99      0.89      0.94       152\n",
            "          18       0.94      0.66      0.78       103\n",
            "          19       0.85      0.55      0.67        93\n",
            "\n",
            "    accuracy                           0.74      2829\n",
            "   macro avg       0.76      0.74      0.75      2829\n",
            "weighted avg       0.76      0.74      0.74      2829\n",
            "\n"
          ]
        }
      ]
    },
    {
      "cell_type": "markdown",
      "source": [
        "## XGBoost"
      ],
      "metadata": {
        "id": "qpM-C5xMY2rZ"
      }
    },
    {
      "cell_type": "code",
      "source": [
        "from xgboost import XGBClassifier\n",
        "\n",
        "XGB = XGBClassifier()\n",
        "XGB.fit(X_train, Y_train)\n",
        "\n",
        "pred = XGB.predict(X_test)\n",
        "acc = accuracy_score(pred, Y_test)\n",
        "print(acc)\n",
        "\n",
        "cm = confusion_matrix(Y_test, pred)\n",
        "print(cm)\n",
        "\n",
        "cr = classification_report(Y_test, pred)\n",
        "print(cr)"
      ],
      "metadata": {
        "colab": {
          "base_uri": "https://localhost:8080/"
        },
        "id": "NuumVGNdY5D0",
        "outputId": "27a59713-260c-452a-b602-e425966a821d"
      },
      "execution_count": 45,
      "outputs": [
        {
          "output_type": "stream",
          "name": "stdout",
          "text": [
            "0.8123011664899258\n",
            "[[ 99   1   1   0   0   0   0   1   0   0   1   0   1   3   0   3   1   1\n",
            "    2  12]\n",
            " [  0 108  10   4   5   5   7   0   0   0   0   0   3   0   1   0   0   0\n",
            "    0   0]\n",
            " [  0   4 122   7   0   2   1   0   0   0   0   0   5   0   0   0   0   0\n",
            "    1   0]\n",
            " [  0  10  20 113   6   1   5   1   0   0   1   0  10   1   0   1   3   0\n",
            "    1   0]\n",
            " [  0   0   4   8 113   1   4   0   0   1   0   0  14   2   0   0   0   0\n",
            "    0   0]\n",
            " [  0   8   8   5   0 111   0   0   0   1   0   0   8   0   0   0   0   0\n",
            "    0   1]\n",
            " [  0   2   2   5   3   1  94   4   2   1   0   1   7   1   1   0   1   0\n",
            "    2   0]\n",
            " [  0   3   0   4   1   0   8 130   4   2   0   0   3   2   0   0   3   0\n",
            "    0   0]\n",
            " [  0   1   0   1   0   0   2   3 121   2   1   0   2   0   1   1   1   0\n",
            "    1   1]\n",
            " [  0   1   0   2   0   1   0   0   0 114   3   1  11   0   0   0   0   0\n",
            "    0   0]\n",
            " [  0   0   0   0   2   0   1   0   0   9 124   0   5   0   1   1   0   0\n",
            "    0   0]\n",
            " [  0   0   3   0   1   1   0   0   2   0   0 146   2   2   0   0   1   0\n",
            "    3   0]\n",
            " [  0   5   3  10   3   1   4   5   0   0   2   4 109   3   5   1   3   0\n",
            "    0   0]\n",
            " [  0   1   0   3   0   1   2   1   1   0   0   1  11 133   0   0   0   0\n",
            "    0   0]\n",
            " [  1   3   0   1   2   0   1   0   1   2   0   0   4   0 128   0   0   0\n",
            "    0   0]\n",
            " [  2   2   0   0   0   0   1   0   1   3   0   0   2   1   0 132   0   0\n",
            "    1   3]\n",
            " [  0   0   0   1   0   1   0   0   0   1   0   0   3   2   2   0 125   1\n",
            "    6   1]\n",
            " [  2   0   0   1   1   1   0   1   0   0   0   1   4   0   0   4   1 132\n",
            "    4   0]\n",
            " [  0   0   0   0   0   0   0   2   0   3   0   0   3   2   0   1   3   2\n",
            "   85   2]\n",
            " [  5   0   0   0   1   0   0   0   1   0   1   0   2   2   0   9   5   5\n",
            "    3  59]]\n",
            "              precision    recall  f1-score   support\n",
            "\n",
            "           0       0.91      0.79      0.84       126\n",
            "           1       0.72      0.76      0.74       143\n",
            "           2       0.71      0.86      0.77       142\n",
            "           3       0.68      0.65      0.67       173\n",
            "           4       0.82      0.77      0.79       147\n",
            "           5       0.87      0.78      0.83       142\n",
            "           6       0.72      0.74      0.73       127\n",
            "           7       0.88      0.81      0.84       160\n",
            "           8       0.91      0.88      0.89       138\n",
            "           9       0.82      0.86      0.84       133\n",
            "          10       0.93      0.87      0.90       143\n",
            "          11       0.95      0.91      0.93       161\n",
            "          12       0.52      0.69      0.59       158\n",
            "          13       0.86      0.86      0.86       154\n",
            "          14       0.92      0.90      0.91       143\n",
            "          15       0.86      0.89      0.88       148\n",
            "          16       0.85      0.87      0.86       143\n",
            "          17       0.94      0.87      0.90       152\n",
            "          18       0.78      0.83      0.80       103\n",
            "          19       0.75      0.63      0.69        93\n",
            "\n",
            "    accuracy                           0.81      2829\n",
            "   macro avg       0.82      0.81      0.81      2829\n",
            "weighted avg       0.82      0.81      0.81      2829\n",
            "\n"
          ]
        }
      ]
    }
  ]
}